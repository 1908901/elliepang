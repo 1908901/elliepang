{
 "cells": [
  {
   "attachments": {},
   "cell_type": "markdown",
   "metadata": {},
   "source": [
    "# Review Ticket"
   ]
  },
  {
   "attachments": {},
   "cell_type": "markdown",
   "metadata": {},
   "source": [
    "\n",
    "|Lesson|Grade|Hacks|\n",
    "|---|---|---|\n",
    "|Unit 3.1-3.2|Grade: 0.90/1| [Hacks](https://1908901.github.io/elliepang/collegeboard/2022/11/29/hacks-for-3.2.html)|\n",
    "|Unit 3.3-3.4|Grade: Our group received a 3.6/4| [Hacks](https://haeryny.github.io/trimester2group/)|\n",
    "|Unit 3.5-3.7|Grade: 0.90/1| [Hacks](https://github.com/MuffinMan1287/BARN/issues/5#issuecomment-1336691548)|\n",
    "|Unit 3.8-3.10|Grade: 0.90/1|[Hacks](https://1908901.github.io/elliepang/2022/12/06/hacks.html)|\n",
    "|Unit 3.9-3.11|Grade: 0.90/1|[Hacks](https://github.com/1908901/elliepang/blob/master/_notebooks/2022-08-22-hacks9-11.ipynb)|\n",
    "|Unit 3.12-3.13|Grade: 0.90/1|[Hacks](https://1908901.github.io/elliepang/2022/12/16/.12-hacks.html)|\n",
    "|Unit 3.14-3.15|Grade: 1/1|[Hacks](https://1908901.github.io/elliepang/2022/12/12/hacks-14-15.html)|\n",
    "|Unit 3.16|Grade: 0.95/1|[Hacks](https://1908901.github.io/elliepang/2022/12/16/hacks-16.html)|\n",
    "|Unit 3.17-3.18|Grade: 0.95/1|[Hacks](https://1908901.github.io/elliepang/2022/12/15/hacks-17-18.html)|"
   ]
  },
  {
   "attachments": {},
   "cell_type": "markdown",
   "metadata": {},
   "source": [
    "## Unit 2 Binary/Data Terms\n",
    "\n",
    "- bits: the minimum unit of binary information stored in a computer system. A bit can have only two states, on or off, which are commonly represented as ones and zeros. In our binary markdown we used to change the number of bits.\n",
    "\n",
    "- bytes: A group of eight bits put together is known as a byte. A byte consists of 256 different combinations if you include the number 00000000 — all the binary numbers between 00000000 and 11111111.\n",
    "\n",
    "- hexadecimal/nibbles: Hexadecimal is a numbering system with base 16. It can be used to represent large numbers with fewer digits. In this system there are 16 symbols or possible digit values from 0 to 9, followed by six alphabetic characters -- A, B, C, D, E and F. For example, when we use Javascript to change the color of the background on our blogs, we use hexadecimals like #eb4034, which would give us a red color. \n",
    "\n",
    "- RGB- Hexadecimal is basically a short code for RGB color, they are simply different ways of communicating the same thing – a red, green, and blue color value. For example, (235, 64, 52) is the RGB for RED. Here's an example of how it is implemented in our fastpages:\n",
    "a { color: rgb(255,255, 255) !important; }\n",
    "\n",
    "- boolean- value that is either true or false\n",
    "    ex:"
   ]
  },
  {
   "cell_type": "code",
   "execution_count": 1,
   "metadata": {},
   "outputs": [
    {
     "name": "stdout",
     "output_type": "stream",
     "text": [
      "False\n"
     ]
    }
   ],
   "source": [
    "x = 5\n",
    "y = 4\n",
    "z = 4 > 5\n",
    "print(z) # value of z is false "
   ]
  },
  {
   "cell_type": "code",
   "execution_count": 3,
   "metadata": {},
   "outputs": [
    {
     "name": "stdout",
     "output_type": "stream",
     "text": [
      "True\n",
      "False\n",
      "True\n"
     ]
    }
   ],
   "source": [
    "print(30 > 19) # true, since is 30 is larger than 19\n",
    "\n",
    "#  variables and strings\n",
    "a = \"Yes\"\n",
    "b = \"No\"\n",
    "print(a == b) #  false, not equal\n",
    "\n",
    "# Renaming b\n",
    "b = \"Yes\"\n",
    "print(a == b) # true, since both variables match"
   ]
  },
  {
   "attachments": {},
   "cell_type": "markdown",
   "metadata": {},
   "source": [
    "- ASCII- is a character encoding standard for electronic communication.\n",
    "\n",
    "- Unicode- is an information technology standard for the consistent encoding, representation, and handling of text expressed in most of the world’s writing systems.\n",
    "\n",
    "- Data Compression- is the process of encoding, restructuring or otherwise modifying data in order to reduce its size.\n",
    "\n",
    "- Lossy- in which unnecessary information is discarded.\n",
    "\n",
    "- Lossless- is a class of data compression algorithms that allows the original data to be perfectly reconstructed from the compressed data."
   ]
  },
  {
   "attachments": {},
   "cell_type": "markdown",
   "metadata": {},
   "source": [
    "# Unit 3 Algorithm/Programming Terms\n",
    "\n",
    "- variables- A variable is an abstraction inside a program that can hold a value. Each variable has associated data storage that represents one value at a time, but that value can be a list or other collection that in turn contains multiple values. Using meaningful variable names helps with readability of program code and understanding of what values are represented by the variables. Some programming languages provide types to represent data, which are referenced using variables.\n",
    "\n",
    "- data types- integer, string, float, boolean, lists, dictionaries, arrays, etc.\n",
    "\n",
    "- lists- Lists are used to store multiple items in a single variable.\n",
    "\n",
    "- dictionaries- A dictionary consists of a collection of key-value pairs. Each key-value pair maps the key to its associated value."
   ]
  },
  {
   "cell_type": "code",
   "execution_count": 1,
   "metadata": {},
   "outputs": [],
   "source": [
    "x = 2 #integer\n",
    "y = \"school\" #string\n",
    "z = True #boolean\n",
    "a = 2.7 #float\n",
    "list = [\"apple\", \"banana\", \"cherry\"] #list\n",
    "dict = {\"name\" : \"John\", \"age\" : 36} # dictionary"
   ]
  },
  {
   "attachments": {},
   "cell_type": "markdown",
   "metadata": {},
   "source": [
    "Operators\n",
    " - A plus sign indicates addition: a + b\n",
    "\n",
    "- A subtraction sign indicates subtraction: a - b\n",
    "\n",
    "- An asterisk/star indicates multiplication: a * b\n",
    "\n",
    "- A slash indicates division: a / b\n",
    "\n",
    "- MOD represent the Modulus operator. Returns the value after division: a MOD b"
   ]
  },
  {
   "cell_type": "code",
   "execution_count": 9,
   "metadata": {},
   "outputs": [
    {
     "name": "stdout",
     "output_type": "stream",
     "text": [
      "27\n",
      "0\n"
     ]
    }
   ],
   "source": [
    "result = 9 * 3 #multiplication operator \n",
    "print(result)\n",
    "answer = 4-4 #subtraction operator \n",
    "print(answer)"
   ]
  },
  {
   "attachments": {},
   "cell_type": "markdown",
   "metadata": {},
   "source": [
    "- algorithms- finite set of instructions that accomplish a specific task, composed of sequencing, selection, and iteration.\n",
    "\n",
    "- sequence- a section of code is run only if a condition is met. (ex: if statements)\n",
    "\n",
    "- selection- repeating steps or instructions over and over again (ex: loops)\n",
    "\n",
    "- iteration- outline or set of steps that we do and follow in order that they are given\n",
    "\n",
    "- strings- a sequence of characters\n",
    "\n",
    "- concatenation- combines two or more strings into one\n",
    "\n",
    "- length- len function finds the number of characters in a string\n",
    "\n",
    "- substring- a part of a existing string\n"
   ]
  },
  {
   "cell_type": "code",
   "execution_count": 10,
   "metadata": {},
   "outputs": [
    {
     "name": "stdout",
     "output_type": "stream",
     "text": [
      "this is an example of a string!\n",
      "31\n"
     ]
    }
   ],
   "source": [
    "stringExample = \"this is an example of a string!\" #strings are in quotations \n",
    "print(stringExample)\n",
    "print(len(stringExample)) # this will find the number of characters in the string"
   ]
  },
  {
   "cell_type": "code",
   "execution_count": 13,
   "metadata": {},
   "outputs": [
    {
     "name": "stdout",
     "output_type": "stream",
     "text": [
      "I am 15 years old.\n",
      "hi :)\n"
     ]
    }
   ],
   "source": [
    "age  = 15\n",
    "print(\"I am\", str(age), \"years old.\") #concatenation example, combining a string and integer together\n",
    "str1 = \"hi\"\n",
    "str2 = \":)\"\n",
    "print(str1, str2) # putting the strings together "
   ]
  },
  {
   "attachments": {},
   "cell_type": "markdown",
   "metadata": {},
   "source": [
    "- upper- upper() method returns the uppercase string from the given string. It converts all lowercase characters to uppercase.\n",
    "\n",
    "- lower- lower() method returns the lowercase string from the given string. It converts all uppercase characters to lowercase."
   ]
  },
  {
   "cell_type": "code",
   "execution_count": 14,
   "metadata": {},
   "outputs": [
    {
     "name": "stdout",
     "output_type": "stream",
     "text": [
      "LOWERCASE\n",
      "uppercase\n"
     ]
    }
   ],
   "source": [
    "lowerCase = \"lowercase\"\n",
    "upperCase = \"UPPERCASE\"\n",
    "print(lowerCase.upper()) # this will print the lower case in all upper case\n",
    "print(upperCase.lower()) # this will print the upper case in all lower case "
   ]
  },
  {
   "attachments": {},
   "cell_type": "markdown",
   "metadata": {},
   "source": [
    "- comparison operators- Logical operators allow for boolean values to be evaluated. Pseudocode uses the logical operators NOT, AND, and OR."
   ]
  },
  {
   "cell_type": "code",
   "execution_count": 16,
   "metadata": {},
   "outputs": [
    {
     "name": "stdout",
     "output_type": "stream",
     "text": [
      "True\n",
      "There is enough food\n",
      "True\n",
      "False\n"
     ]
    }
   ],
   "source": [
    "print(1 == 1 and 10 >= 0) # Returns true because both statements are true\n",
    "\n",
    "pizza = 25\n",
    "burger = 30\n",
    "print(\"There is enough food\") # First condition is false, but second condition is true\n",
    "print(pizza == 50 or pizza + burger >= 35) # Ends up returning true since at least one condition is true\n",
    "\n",
    "# The expression \"Blue\" != \"Green\" is false\n",
    "print(not \"Blue\" != \"Green\") # Not operator changes statement to not false, printing true"
   ]
  },
  {
   "attachments": {},
   "cell_type": "markdown",
   "metadata": {},
   "source": [
    "- Truth tables- A truth table is a way of summarizing and checking the logic of a circuit. The table shows all possible combinations of inputs and, for each combination, the output that the circuit will produce.\n",
    "\n",
    "AND Operator\n",
    "\n",
    "|Value 1|Value 2|Result|\n",
    "|---|---|---|\n",
    "|1|1|1\n",
    "|1|0|0|\n",
    "|0|1|0|\n",
    "|0|0|0|"
   ]
  },
  {
   "attachments": {},
   "cell_type": "markdown",
   "metadata": {},
   "source": [
    "OR Operator\n",
    "\n",
    "|Value 1|Value 2|Result|\n",
    "|---|---|---|\n",
    "|1|1|1|\n",
    "|1|0|1|\n",
    "|0|1|1|\n",
    "|0|0|0|"
   ]
  },
  {
   "attachments": {},
   "cell_type": "markdown",
   "metadata": {},
   "source": [
    "Not Operator\n",
    "\n",
    "|Value 1|Value 2|Result|\n",
    "|---|---|---|\n",
    "|Not|1|0|\n",
    "|Not|0|1|"
   ]
  },
  {
   "attachments": {},
   "cell_type": "markdown",
   "metadata": {},
   "source": [
    "- if statement- will go through certain statements if the if expression is true\n",
    "\n",
    "- if-else- will go through a statement no matter what, but the statement which is run depends on the if expression is true or false\n",
    "\n",
    "- elif- elif is short for \"else if\" and is used when the first if statement isn't true, but you want to check for another condition. Meaning, if statements pair up with elif and else statements to perform a series of checks.\n",
    "\n",
    "- nested selection statements- Nested selection structures are used when more than one decision must be made before carrying out a task. Nesting is a programming activity, in which one program block is placed inside other program block of the same operation type. Nesting processes are mostly used implemented in the selection control structures.\n"
   ]
  },
  {
   "cell_type": "code",
   "execution_count": 17,
   "metadata": {},
   "outputs": [
    {
     "name": "stdout",
     "output_type": "stream",
     "text": [
      "12\n"
     ]
    }
   ],
   "source": [
    "S = 12\n",
    "if S % 2 == 0:\n",
    "    print(S)\n",
    "else:\n",
    "    print(\"This number is not even.\")"
   ]
  },
  {
   "cell_type": "code",
   "execution_count": 18,
   "metadata": {},
   "outputs": [
    {
     "name": "stdout",
     "output_type": "stream",
     "text": [
      "28\n"
     ]
    }
   ],
   "source": [
    "number1 = 28\n",
    "number2 = 43\n",
    "def lessthan30(num):\n",
    "    # Example of if statement\n",
    "    if num < 30: # If this condition is true(variable is less than 30)\n",
    "        print(num) # Then the value of the variable will be printed\n",
    "\n",
    "lessthan30(number1) # The if statement is true, so it will print the value of 28\n",
    "lessthan30(number2) # The if statement is false, nothing will be printed."
   ]
  },
  {
   "cell_type": "code",
   "execution_count": 19,
   "metadata": {},
   "outputs": [
    {
     "name": "stdout",
     "output_type": "stream",
     "text": [
      "price is 100\n"
     ]
    }
   ],
   "source": [
    "price = 100\n",
    "\n",
    "if price > 100:\n",
    "    print(\"price is greater than 100\")\n",
    "elif price == 100: #elif use \n",
    "    print(\"price is 100\")\n",
    "elif price < 100:\n",
    "    print(\"price is less than 100\")"
   ]
  },
  {
   "cell_type": "code",
   "execution_count": 20,
   "metadata": {},
   "outputs": [
    {
     "name": "stdout",
     "output_type": "stream",
     "text": [
      "['lion', 'tiger', 'wildebeest', 'shark', 'jellyfish', 'blobfish', 'raven']\n",
      "lion\n",
      "tiger\n",
      "wildebeest\n",
      "Fun Fact: The smallest shark is the dwarf lantern shark, and it is small enough to hold in your hand!\n",
      "jellyfish\n",
      "blobfish\n",
      "raven\n"
     ]
    }
   ],
   "source": [
    "animals = [\"lion\", \"tiger\", \"wildebeest\", \"shark\", \"jellyfish\", \"blobfish\", \"raven\"]\n",
    " \n",
    "print(animals)\n",
    "for i in animals: # if else statement nested in for loop \n",
    "    if i == \"shark\": # What boolean value does this statement cause? Answer: True\n",
    "        print(\"Fun Fact: The smallest shark is the dwarf lantern shark, and it is small enough to hold in your hand!\")\n",
    "    else:\n",
    "        print(i)"
   ]
  },
  {
   "attachments": {},
   "cell_type": "markdown",
   "metadata": {},
   "source": [
    "- For Loop: repeats a function for a set number of times; I is the number of times repeated. With the for loop we can execute a set of statements, once for each item in a list, tuple, set etc.\n",
    "\n",
    "- While Loop: the while loop is used to repeat a section of code an unknown number of times until a specific condition is met. A while loop will execute a set of statements as long as a condition is true.\n",
    "\n",
    "- return values: The value that a function returns to the caller is generally known as the function's return value. All Python functions have a return value, either explicit or implicit.\n",
    "\n",
    "- continue: With the continue statement we can stop the current iteration, and continue with the next:"
   ]
  },
  {
   "cell_type": "code",
   "execution_count": 21,
   "metadata": {},
   "outputs": [
    {
     "name": "stdout",
     "output_type": "stream",
     "text": [
      "apple\n",
      "banana\n",
      "cherry\n"
     ]
    }
   ],
   "source": [
    "fruits = [\"apple\", \"banana\", \"cherry\"]\n",
    "for x in fruits: # loops through the entire list \n",
    "  print(x)"
   ]
  },
  {
   "cell_type": "code",
   "execution_count": 22,
   "metadata": {},
   "outputs": [
    {
     "name": "stdout",
     "output_type": "stream",
     "text": [
      "1\n",
      "2\n",
      "3\n",
      "4\n",
      "5\n"
     ]
    }
   ],
   "source": [
    "i = 1\n",
    "while i < 6:\n",
    "  print(i) # i will keep printing as long as the statement is true \n",
    "  i += 1"
   ]
  },
  {
   "cell_type": "code",
   "execution_count": 23,
   "metadata": {},
   "outputs": [
    {
     "name": "stdout",
     "output_type": "stream",
     "text": [
      "1\n",
      "2\n",
      "4\n",
      "5\n",
      "6\n"
     ]
    }
   ],
   "source": [
    "i = 0\n",
    "while i < 6:\n",
    "  i += 1\n",
    "  if i == 3:\n",
    "    continue\n",
    "  print(i)"
   ]
  },
  {
   "cell_type": "code",
   "execution_count": 24,
   "metadata": {},
   "outputs": [
    {
     "name": "stdout",
     "output_type": "stream",
     "text": [
      "15\n",
      "25\n"
     ]
    }
   ],
   "source": [
    "def my_function(x):\n",
    "  return 5 * x\n",
    "\n",
    "print(my_function(3))\n",
    "print(my_function(5))"
   ]
  },
  {
   "attachments": {},
   "cell_type": "markdown",
   "metadata": {},
   "source": [
    "- range: The range() function returns a sequence of numbers, starting from 0 by default, and increments by 1 (by default), and stops before a specified number."
   ]
  },
  {
   "cell_type": "code",
   "execution_count": 25,
   "metadata": {},
   "outputs": [
    {
     "name": "stdout",
     "output_type": "stream",
     "text": [
      "3\n",
      "4\n",
      "5\n"
     ]
    }
   ],
   "source": [
    "x = range(3, 6)\n",
    "for n in x:\n",
    "  print(n)"
   ]
  },
  {
   "attachments": {},
   "cell_type": "markdown",
   "metadata": {},
   "source": [
    "- class- A class creates a new local namespace where all its attributes are defined. Attributes may be data or functions. Like function definitions begin with the def keyword in Python, class definitions begin with a class keyword.\n",
    "\n",
    "- parameters- Parameters are the variables that appear between the brackets in the \"def\" line of a Python function definition.\n",
    "\n",
    "- Procedure: is a named group of programming instructions that may have parameters and return values. Procedures can be reffered to as method or function depending on the programing language. A procedrure call interrupts an execution of statements and makes the program execute the statements in the procedure.\n",
    "\n",
    "    - Two types: one that returns a value or some type of data and on that just executes a block of statements\n",
    "\n",
    "- Modularity - the practice of breaking a complex program into smaller, independent parts or modules that can be used and reused in different parts of the program\n",
    "\n",
    "- procedural abstraction- One good use of a procedure is to eliminate duplicate code. In addition to improving the readability of the app, the use of a procedure will make it easier to modify that chunk of code because it only occurs once in the program. Use of parameters and complexity."
   ]
  },
  {
   "cell_type": "code",
   "execution_count": 26,
   "metadata": {},
   "outputs": [
    {
     "name": "stdout",
     "output_type": "stream",
     "text": [
      "10\n"
     ]
    }
   ],
   "source": [
    "class Person:\n",
    "    \"This is a person class\"\n",
    "    age = 10\n",
    "\n",
    "    def greet(self):  #parameters \n",
    "        print('Hello')\n",
    "\n",
    "# Output: 10\n",
    "print(Person.age)"
   ]
  },
  {
   "attachments": {},
   "cell_type": "markdown",
   "metadata": {},
   "source": [
    "- Python def procedures- A procedure allows us to group a block of code under a name, known as a procedure. \n",
    "\n",
    "- simulation: A simulation is an simpler abstraction of an very complicated natural phenomena. It removes details that are unnecessary or are too difficult to simulate. The level of abstraction in a simulation depends on why we're creating it in the first place.\n",
    "    -  safer, repeatable, less expensive, can make predictions\n",
    "\n",
    "- A problem is a description of a task that may or may not be able to be solved through the use of an algorithm. An instance of a problem includes a specific input. One example of this type of problem is a sorting problem.\n",
    "\n",
    "- A decision problem is a problem with a binary answer (yes or no). An optimization problem is a problem with the objective of finding the BEST solution amongst many possibilities to solve a problem.\n",
    "\n",
    "- An algorithm's efficiency is determine through formal or mathematical reasoning.\n",
    "undecidable problem- problems for which no algorithms can be built that can provide a correct yes or no answer or a solution\n",
    "\n",
    "- decidable problem- problems for which algorithms could be written to solve/produce a correct output for all inputs."
   ]
  },
  {
   "cell_type": "code",
   "execution_count": 27,
   "metadata": {},
   "outputs": [
    {
     "name": "stdout",
     "output_type": "stream",
     "text": [
      "greater than 10\n"
     ]
    }
   ],
   "source": [
    "number = 20  #set number equal to random value \n",
    "if number > 10: # if the number is greater than 10 \n",
    "    print(\"greater than 10\") #print \n",
    "else: # if less than 10 \n",
    "    print(\"not greater than 10\") # print"
   ]
  },
  {
   "cell_type": "code",
   "execution_count": 28,
   "metadata": {},
   "outputs": [],
   "source": [
    "num = 1\n",
    "while num == 0: # the number will never equal 0 since we set it to 1, so this is undecidable\n",
    "  print(num)\n",
    "  num = num + 1"
   ]
  },
  {
   "attachments": {},
   "cell_type": "markdown",
   "metadata": {},
   "source": [
    "- A recursion is when a function calls itself until someone stops it. If no one stops it then it'll recurse (call itself) forever. Recursive functions let you perform a unit of work multiple times. This would be much more efficient and faster than the code above because, there is much less code and you don't need to keep calling the function, it will just do it automatically."
   ]
  },
  {
   "cell_type": "code",
   "execution_count": 29,
   "metadata": {},
   "outputs": [
    {
     "name": "stdout",
     "output_type": "stream",
     "text": [
      "Recursion Example Results\n",
      "1\n",
      "3\n",
      "6\n",
      "10\n",
      "15\n",
      "21\n"
     ]
    },
    {
     "data": {
      "text/plain": [
       "21"
      ]
     },
     "execution_count": 29,
     "metadata": {},
     "output_type": "execute_result"
    }
   ],
   "source": [
    "def tri_recursion(k):\n",
    "  if(k>0):\n",
    "    result = k+tri_recursion(k-1)\n",
    "    print(result)\n",
    "  else:\n",
    "    result = 0\n",
    "  return result\n",
    "\n",
    "print(\"Recursion Example Results\")\n",
    "tri_recursion(6)"
   ]
  },
  {
   "cell_type": "code",
   "execution_count": 31,
   "metadata": {},
   "outputs": [
    {
     "name": "stdout",
     "output_type": "stream",
     "text": [
      "Coin flip simulation!\n",
      "# of heads: 56\n",
      "# of tails: 44\n"
     ]
    }
   ],
   "source": [
    "import random\n",
    "\n",
    "print(\"Coin flip simulation!\")\n",
    "\n",
    "n = 100 #this value can easily be changed to change the sample size\n",
    "heads = 0\n",
    "tails = 0\n",
    " \n",
    "for i in range(n):\n",
    "    flip = random.randint(1,2) # get a random number between 1 and 2\n",
    "    if flip == 1: # head\n",
    "        heads = heads + 1\n",
    "    else:         # tail\n",
    "        tails = tails + 1\n",
    " \n",
    "print('# of heads:', heads)\n",
    "print('# of tails:', tails)"
   ]
  },
  {
   "attachments": {},
   "cell_type": "markdown",
   "metadata": {},
   "source": [
    "# APCSP Week 1 Notes \n",
    "\n",
    "- In class we learned how to use bash and python such as python functions if/else statements and variables. \n",
    "- We learned about keys and that bash can make scripts with terminal/shell. \n",
    "- Static Text do not change.\n",
    "- Output in Jupyter Notebook is under the code cell. It will vary based on development intentions and tools.\n",
    "- Sequence of code: two or more lines forms a sequence.\n",
    "- \"Msg\": parameter to print command, causing input to be output to terminal.\n",
    "- Procedural abstraction: grouping a sequence of commands."
   ]
  }
 ],
 "metadata": {
  "kernelspec": {
   "display_name": "Python 3",
   "language": "python",
   "name": "python3"
  },
  "language_info": {
   "codemirror_mode": {
    "name": "ipython",
    "version": 3
   },
   "file_extension": ".py",
   "mimetype": "text/x-python",
   "name": "python",
   "nbconvert_exporter": "python",
   "pygments_lexer": "ipython3",
   "version": "3.8.9"
  },
  "orig_nbformat": 4,
  "vscode": {
   "interpreter": {
    "hash": "31f2aee4e71d21fbe5cf8b01ff0e069b9275f58929596ceb00d14d90e3e16cd6"
   }
  }
 },
 "nbformat": 4,
 "nbformat_minor": 2
}
