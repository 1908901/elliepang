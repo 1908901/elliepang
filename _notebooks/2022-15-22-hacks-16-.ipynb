{
 "cells": [
  {
   "attachments": {},
   "cell_type": "markdown",
   "metadata": {},
   "source": [
    "# Unit 3.16 Hacks "
   ]
  },
  {
   "attachments": {},
   "cell_type": "markdown",
   "metadata": {},
   "source": [
    "# Notes \n",
    "\n",
    "|Vocab|Definition|\n",
    "|---|---|\n",
    "|Simulation|A simpler abstraction that removes details that are unessesary or too complicated to simulate. Abstraction levels in a simulation varies depending on the situation. Simulations are a simple way to model complicated situations.  |\n",
    "|Why would you make a simulation?|Simulations are needed for modeling complicated situations (such as population dynamics or flying a plane) in a much simpler way so that any user can still manage most aspects of the model without delving into complexities.|\n",
    "|Why simulations over experiment?|Simulations are safer, less expensive, repeatable, and can make predictions|"
   ]
  },
  {
   "attachments": {},
   "cell_type": "markdown",
   "metadata": {},
   "source": [
    "# Hacks\n",
    "\n",
    "|Question|Answer |\n",
    "|---|---|\n",
    "|Name(First+Last)|Ellie Pang|\n",
    "|1|x|\n",
    "|2|x|\n",
    "|3|C- To make the simulation more accurate|\n",
    "|4|C- Imperfections on aircraft|\n",
    "|5|C Situation considered|\n",
    "|6|A- simulation, because it's too dangerous to have this be an experiment|\n",
    "|7|A- simulation, we don't want to experiment with this because it could cause great harm on the environment|\n",
    "|8|x|\n",
    "|9|B- experiment/calculation because there is no need to simulate anything, this will only be a simple calculation of the average|"
   ]
  },
  {
   "attachments": {},
   "cell_type": "markdown",
   "metadata": {},
   "source": [
    "# Extra Simulation "
   ]
  },
  {
   "cell_type": "code",
   "execution_count": 36,
   "metadata": {},
   "outputs": [
    {
     "name": "stdout",
     "output_type": "stream",
     "text": [
      "Roll 1 is a  4\n",
      "Roll 2 is a  3\n",
      "Roll 3 is a  3\n",
      "Roll 4 is a  4\n",
      "Sum of dice rolls: 14\n"
     ]
    }
   ],
   "source": [
    "import random\n",
    "\n",
    "rolls = 4 # manipulate how many rolls\n",
    "total = 0\n",
    "\n",
    "i = 0\n",
    "while rolls != 0: # rolls dice for number of rolls\n",
    "    diceroll = random.randint(1,6) # change the \"6\" to how many sides on the dice you want\n",
    "    i = i + 1 \n",
    "    print(\"Roll\", i, \"is a \", diceroll) \n",
    "    total = total + diceroll\n",
    "    rolls = rolls - 1\n",
    "    \n",
    "print(\"Sum of dice rolls:\", total)"
   ]
  },
  {
   "attachments": {},
   "cell_type": "markdown",
   "metadata": {},
   "source": [
    "This simulation represents a six-sided dice roll. It calculates the sum of the rolls and also shows which random number was rolled for each turn. The number of sides can be changed by changing the 6 in random.randint (1,6) to any number. You can also change the number of rolls by manipulating rolls = 4. "
   ]
  },
  {
   "attachments": {},
   "cell_type": "markdown",
   "metadata": {},
   "source": [
    "# Extra Simulation x2"
   ]
  },
  {
   "cell_type": "code",
   "execution_count": 42,
   "metadata": {},
   "outputs": [
    {
     "name": "stdout",
     "output_type": "stream",
     "text": [
      "Coin flip simulation!\n",
      "Number of heads: 42\n",
      "Number of tails: 58\n"
     ]
    }
   ],
   "source": [
    "import random\n",
    "\n",
    "print(\"Coin flip simulation!\")\n",
    "\n",
    "e = 100 \n",
    "h = 0 #heads\n",
    "t = 0 #tails\n",
    " \n",
    "for i in range(e):\n",
    "    flip = random.randint(1,2) # random number between 1 and 2\n",
    "    if flip == 1:\n",
    "        h = h + 1 # calculates number of heads\n",
    "    else:         \n",
    "        t = t + 1 # calculates number of tails\n",
    " \n",
    "print('Number of heads:', heads)\n",
    "print('Number of tails:', tails)"
   ]
  },
  {
   "attachments": {},
   "cell_type": "markdown",
   "metadata": {},
   "source": [
    "This simulation represents a coin toss of 100 tosses. I set e equal to the sample size and h and t to 0 which is the default value. \n",
    "Then I used a for loop, with each flip, the procedure will either give heads or tails until the coin has been flipped 100 times.\n",
    "Using a simulation is much more efficient and better than actually running an experiment. Simulations save a lot of time and effort. It would take forever to flip a coin 100 times. "
   ]
  }
 ],
 "metadata": {
  "kernelspec": {
   "display_name": "Python 3",
   "language": "python",
   "name": "python3"
  },
  "language_info": {
   "codemirror_mode": {
    "name": "ipython",
    "version": 3
   },
   "file_extension": ".py",
   "mimetype": "text/x-python",
   "name": "python",
   "nbconvert_exporter": "python",
   "pygments_lexer": "ipython3",
   "version": "3.8.9 (default, Apr 13 2022, 08:48:06) \n[Clang 13.1.6 (clang-1316.0.21.2.5)]"
  },
  "orig_nbformat": 4,
  "vscode": {
   "interpreter": {
    "hash": "31f2aee4e71d21fbe5cf8b01ff0e069b9275f58929596ceb00d14d90e3e16cd6"
   }
  }
 },
 "nbformat": 4,
 "nbformat_minor": 2
}
