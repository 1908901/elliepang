{
 "cells": [
  {
   "cell_type": "code",
   "execution_count": 1,
   "metadata": {},
   "outputs": [
    {
     "name": "stdout",
     "output_type": "stream",
     "text": [
      "2022-08-22-My-First-Notebook.ipynb       README.md\n",
      "2022-08-22-bash.ipynb                    \u001b[0m\u001b[01;34mghtop_images\u001b[0m/\n",
      "2022-08-23-Ellie-Jupyter-Notebook.ipynb  \u001b[01;34mmy_icons\u001b[0m/\n"
     ]
    }
   ],
   "source": [
    "ls"
   ]
  }
 ],
 "metadata": {
  "kernelspec": {
   "display_name": "Python 3.9.12 ('base')",
   "language": "python",
   "name": "python3"
  },
  "language_info": {
   "codemirror_mode": {
    "name": "ipython",
    "version": 3
   },
   "file_extension": ".py",
   "mimetype": "text/x-python",
   "name": "python",
   "nbconvert_exporter": "python",
   "pygments_lexer": "ipython3",
   "version": "3.9.12"
  },
  "orig_nbformat": 4,
  "vscode": {
   "interpreter": {
    "hash": "596aa67d24c5b385aaa644eec402e377e73358050ef0abc4d76f6607faf005f8"
   }
  }
 },
 "nbformat": 4,
 "nbformat_minor": 2
}
