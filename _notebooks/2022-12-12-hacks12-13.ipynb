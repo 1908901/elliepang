{
 "cells": [
  {
   "attachments": {},
   "cell_type": "markdown",
   "metadata": {},
   "source": [
    "# Unit 3 Sections 12-13 Hacks "
   ]
  },
  {
   "attachments": {},
   "cell_type": "markdown",
   "metadata": {},
   "source": [
    "Notes\n",
    "3.12 Notes\n",
    "What is a procedure and a parameter?\n",
    "A procedure is a named group of programming instructions that may have parameters and return values.\n",
    "\n",
    "Procedures can be reffered to as method or function depending on the programing language.\n",
    "\n",
    "A procedrure call interrupts an execution of statements and makes the program execute the statements in the procedure.\n",
    "Parameters are input values of a procedure.\n",
    "Arguements specifcy the values of the parameters when a procedure is called.\n",
    "\n",
    "If you have a set of statements and inside there is a procedure then when it reaches that procedure it will excute that procedure and then go back to the rest of the statments.\n",
    "\n",
    "If you see a return statement you automatically end the procedure even if there is more statements\n",
    "\n",
    "Procedures are that a catch-all term for codes used to identify what was done to or given to a patient\n",
    "If you have a set of statements in a procedure the statement will go thought the top of the procedure to the bottom in order.\n",
    "\n",
    "3.13 Notes\n",
    "Procedure: is a named group of programming instructions that serves a purpose\n",
    "Parameter: are input values of a procedur\n",
    "There are two types of procedures, one that returns a value or some type of data and on that just executes a block of statements\n",
    "Modularity: the practice of breaking a complex program into smaller, independent parts or modules that can be used and reused in different parts of the program\n",
    "Creating a Procedure\n",
    "When you are picking a name for the procedure it must be descriptive\n",
    "See if you need any parameters for this procedure (what data do you need to accomplish my goal? What king of information am I going to need?)\n",
    "2 of the parameters in the example below could be the quizGrade and currentPoints (need this data)\n",
    "One common type of abstraction is procedrual abstraction, which provides a name for a process and allows a procedure to be only knowing what it doe,not how it does it. The subdivision of a computer program into sepearate subprogrames is called modularity."
   ]
  },
  {
   "attachments": {},
   "cell_type": "markdown",
   "metadata": {},
   "source": [
    "# 3.12 Part 1 Hacks \n",
    "\n",
    "## Problem 1: This problem involves parameters\n",
    "\n",
    "Qais is writing code to calculate formulas from his math class. He's currently working on a procedure to calculate average speed, based on this formula:\n",
    "\n",
    "Average speed = Total Time/Total Distance​\n",
    "\n",
    "Highlight which of these is the best procedure for calculating and displaying average speed.\n",
    "\n",
    "PROCEDURE calcAvgSpeed (distance, time) { DISPLAY (distance/time) }\n",
    "\n",
    "PROCEDURE calcAvgSpeed (distance) { DISPLAY (distance/time) }\n",
    "\n",
    "<mark>PROCEDURE calcAvgSpeed (distance, time) { DISPLAY (time/distance) }</mark>\n",
    "\n",
    "Problem 2: Procedures with return values James Hunter is looking through his classmate's program and sees a procedure called heightenEmotions: PROCEDURE heightenEmotions(myEmotion)"
   ]
  },
  {
   "attachments": {},
   "cell_type": "markdown",
   "metadata": {},
   "source": [
    "## Problem 2: Procedures with return values \n",
    "\n",
    "James Hunter is looking through his classmate's program and sees a procedure called heightenEmotions: PROCEDURE heightenEmotions(myEmotion)\n",
    "\n",
    "{ moreEnergy ← CONCAT(myEmotion, \"!!!\")\n",
    "\n",
    "moreVolume ← UPPER(moreEnergy)\n",
    "\n",
    "RETURN moreVolume }\n",
    "\n",
    "That procedure manipulates strings using two built-in procedures, CONCAT for concatenating two strings together, and UPPER for converting a string to uppercase.\n",
    "\n",
    "James Hunter then sees this line of code:\n",
    "\n",
    "heightenEmotions(\"im mad\")\n",
    "\n",
    "After that line of code runs, will nothing be displayed?\n",
    "\n",
    "True\n",
    "\n",
    "<mark>False</mark>\n",
    "\n",
    "I think 'IM MAD!!!' will display because the upper() function converts all lowercase to uppercase and the concat() function adds on three exclamation marks. Therefore something will be displayed."
   ]
  },
  {
   "attachments": {},
   "cell_type": "markdown",
   "metadata": {},
   "source": [
    "## Problem 3: Procedures with return values\n",
    "\n",
    "Bubz is writing a program to calculate the carbon footprint of his activities. The procedure calcFlightFootprint calculates the pounds of carbon dioxide produced per passenger in a flight that covers a given number of miles and seats a given number of passengers.\n",
    "\n",
    "PROCEDURE calcFlightFootprint(numMiles, numPassengers) { CO2_PER_MILE ← 53.29\n",
    "\n",
    "carbonPerFlight ← numMiles * CO2_PER_MILE\n",
    "\n",
    "carbonPerPassenger ← carbonPerFlight / numPassengers\n",
    "\n",
    "RETURN carbonPerPassenger\n",
    "\n",
    "}\n",
    "\n",
    "Bubz wants to use that procedure to calculate the total footprint for his two upcoming flights: LA to NY: 2,451 miles and 118 passengers NY to London: 3,442 miles and 252 passengers\n",
    "\n",
    "Which of these code snippets successfully calculates and stores her total footprint? Highlight 2 answers.\n",
    "\n",
    "<mark>totalFootprint ← calcFlightFootprint(2451, 118) + calcFlightFootprint(3442, 252)</mark>\n",
    "\n",
    "totalFootprint ← calcFlightFootprint(2451, 118 + 3442, 252)\n",
    "\n",
    "<mark>totalFootprint ← calcFlightFootprint((2451, 118) + (3442, 252))</mark>\n",
    "\n",
    "laNyCarbon ← calcFlightFootprint(2451, 118) nyLondonCarbon ← calcFlightFootprint(3442, 252) totalFootprint ← laNyCarbon + nyLondonCarbon"
   ]
  },
  {
   "attachments": {},
   "cell_type": "markdown",
   "metadata": {},
   "source": [
    "# 3.12 Homework/Hacks pt 2\n",
    "\n",
    "1. PROCEDURE find a ()\n",
    "\n",
    "{ c -- 9\n",
    "\n",
    "b <-- 9 * 9\n",
    "\n",
    "a <-- b * c\n",
    "\n",
    "Print (a)\n",
    "\n",
    "}\n",
    "\n",
    "What is a?\n",
    "\n",
    "<mark>a = 729</mark>\n",
    "\n",
    "1. cost ⟵ 173 tax - 10%\n",
    "\n",
    "PROCEDURE applytax (cost, cpercentDiscounted) { temp <-- 100 + percentTaxed\n",
    "\n",
    "temp <-- temp / 100\n",
    "\n",
    "cost <-- cost x temp\n",
    "\n",
    "Print(cost)}\n",
    "\n",
    "What is the cost?\n",
    "\n",
    "<mark>the cost is $190.30</mark>\n",
    "\n",
    "Temperature - 103 Degrees\n",
    "PROCEDURE convet Fahrenheit (tempature)\n",
    "\n",
    "{\n",
    "\n",
    "Celsius <-- tempature - 32\n",
    "\n",
    "Celsius <-- Celsius x 5/9\n",
    "\n",
    "Print (Celsius)}\n",
    "\n",
    "<mark>answer = 39.444</mark>"
   ]
  },
  {
   "attachments": {},
   "cell_type": "markdown",
   "metadata": {},
   "source": [
    "# 3.13 Homework/Hacks for pt 1 and 2 of the lesson"
   ]
  },
  {
   "attachments": {},
   "cell_type": "markdown",
   "metadata": {},
   "source": [
    "# 1. Create a procedure that is meant to replace the top running backs yards per game in one season if the current running back has more yards per game\n",
    "\n",
    "Necessary Parameters: toprbyardspg(100), currentrbyards(1260), totalGames(12)"
   ]
  },
  {
   "cell_type": "code",
   "execution_count": null,
   "metadata": {},
   "outputs": [],
   "source": [
    "if currentrbyards(1260) > toprbyardspg(100)\n",
    "    replace(toprbyardspg(100), currentrbyards(1260), totalGames(12))"
   ]
  },
  {
   "attachments": {},
   "cell_type": "markdown",
   "metadata": {},
   "source": [
    "# 2 Write a procedure that will allow the A+ to get to the 1, while avoiding the black boxes."
   ]
  },
  {
   "cell_type": "code",
   "execution_count": null,
   "metadata": {},
   "outputs": [],
   "source": [
    "PROCEDURE getAplus(){\n",
    "If (can_MoveForward):\n",
    "Move_Forward\n",
    "Else (can_MoveRight):\n",
    "Rotate_Right\n",
    "Move_Forward\n",
    "If (can_MoveLeft);\n",
    "Rotate_Left\n",
    "Move_forward\n",
    "}"
   ]
  },
  {
   "attachments": {},
   "cell_type": "markdown",
   "metadata": {},
   "source": [
    "# 3 Which Is the Correct Way to define the Name of a Procedure?\n",
    "\n",
    "A. PROCEDURE MYLIST\n",
    "\n",
    "<mark>B. PROCEDURE MyList</mark>\n",
    "\n",
    "because procedure should be in all caps and part of the procedure name should be capitalized\n",
    "\n",
    "C. procedure mylist"
   ]
  },
  {
   "attachments": {},
   "cell_type": "markdown",
   "metadata": {},
   "source": [
    "# 4 Write A Procedure That gets the BeachBall To the Green Square"
   ]
  },
  {
   "cell_type": "code",
   "execution_count": null,
   "metadata": {},
   "outputs": [],
   "source": [
    "PROCEDURE BallToGreen{\n",
    "Rotate_Left\n",
    "Move_Forward\n",
    "Rotate_Right \n",
    "Move_Forward( until count = 6)\n",
    "break\n",
    "Rotate_Left\n",
    "Move_Forward (until count=2) \n",
    "break\n",
    "}"
   ]
  }
 ],
 "metadata": {
  "kernelspec": {
   "display_name": "base",
   "language": "python",
   "name": "python3"
  },
  "language_info": {
   "name": "python",
   "version": "3.9.13 (main, Aug 25 2022, 18:29:29) \n[Clang 12.0.0 ]"
  },
  "orig_nbformat": 4,
  "vscode": {
   "interpreter": {
    "hash": "651e91bc5e7f833b76c0423da7c79ea4022866e33ff21a54f09f37912e770c86"
   }
  }
 },
 "nbformat": 4,
 "nbformat_minor": 2
}
