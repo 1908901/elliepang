{
 "cells": [
  {
   "attachments": {},
   "cell_type": "markdown",
   "metadata": {},
   "source": [
    "# Section 3.9-3.11 Notes \n",
    "- Algorithms can be written in different ways and still - accomplish the same tasks\n",
    "- Algorithms that appear similar can yield different side effects or results\n",
    "- Some conditional statements can be written as equivalent Boolean expressions\n",
    "- Some Boolean expressions can be written as equivalent conditional statements\n",
    "- Different algorithms can be developed or used to solve the same problem\n",
    "- Iteration: Repeating steps, or instructions over and over again. ( this could be also often called a loop )\n",
    "- Selection: is a decision or question. At some point in an algorithm there may need to be a question because the algorithm has reached a step where one or more options are available."
   ]
  },
  {
   "attachments": {},
   "cell_type": "markdown",
   "metadata": {},
   "source": [
    "# 1 \n",
    "Write this Boolean statement in the form of a conditional (if/else) statement: stayInside⟵((isCold) OR (isRaining))"
   ]
  },
  {
   "cell_type": "code",
   "execution_count": null,
   "metadata": {},
   "outputs": [],
   "source": [
    "IF (isCold or isRaining) {\n",
    "    stayInside ⟵ True\n",
    "}\n",
    "ELSE {\n",
    "    stayInside ⟵ False\n",
    "}"
   ]
  },
  {
   "attachments": {},
   "cell_type": "markdown",
   "metadata": {},
   "source": [
    "# 2 \n",
    "Create an algorithm that uses selection and/or iteration that will represent one player’s complete turn.\n",
    "\n",
    "During a turn, each player gets 4 attempts/chances to get the greatest number possible.\n",
    "During each attempt, the player will use a random number generator to select a random number from 1 to 10.\n",
    "After they have had 4 chances, their score is the greatest number they received from the random number generator, and their turn is over."
   ]
  },
  {
   "cell_type": "code",
   "execution_count": 3,
   "metadata": {},
   "outputs": [
    {
     "name": "stdout",
     "output_type": "stream",
     "text": [
      "Attempts: [9, 2, 9, 4]\n",
      "----------------------------------\n",
      "Maximum number from player:\n",
      "9\n"
     ]
    }
   ],
   "source": [
    "import random\n",
    "numAttempts = []\n",
    "\n",
    "i = 1 \n",
    "while i <= 4:\n",
    "    numAttempts.append(random.randint(1,10))\n",
    "    i = i +1 \n",
    "    \n",
    "print(\"Attempts:\", numAttempts)\n",
    "print (\"----------------------------------\")\n",
    "print(\"Maximum number from player:\")\n",
    "print(max(numAttempts))"
   ]
  },
  {
   "attachments": {},
   "cell_type": "markdown",
   "metadata": {},
   "source": [
    "# 3\n",
    "Create an algorithm that will allow the arrow to reach the gray square:"
   ]
  },
  {
   "cell_type": "code",
   "execution_count": null,
   "metadata": {},
   "outputs": [],
   "source": [
    "for x in range(0, 3):\n",
    "    move forward \n",
    "turn right \n",
    "for x in range(0, 5):\n",
    "    move forward \n",
    "turn right\n",
    "for x in range(0, 2):\n",
    "    move forward "
   ]
  },
  {
   "cell_type": "code",
   "execution_count": null,
   "metadata": {},
   "outputs": [],
   "source": [
    "# this wouldn't be the fastest way for the robot to get to the other side but\n",
    "# it is much more efficient coding wise\n",
    "{\n",
    "if CANMOVEFORWARD{\n",
    "    moveForwards\n",
    "}\n",
    "else{\n",
    "    if CANTURNRIGHT{\n",
    "        turnright\n",
    "    }\n",
    "    if CANTURNLEFT{\n",
    "        turnleft\n",
    "    }\n",
    "}\n",
    "}"
   ]
  },
  {
   "attachments": {},
   "cell_type": "markdown",
   "metadata": {},
   "source": [
    "# 4\n",
    "\n",
    "Make a binary search tree of different the list [1,2,3,4,6,9,11,69]\n",
    "\n",
    "See comment for image \n"
   ]
  },
  {
   "attachments": {},
   "cell_type": "markdown",
   "metadata": {},
   "source": [
    "# 5\n",
    "Explain thoroughly how to find the number 69 in the list above (use key words)\n",
    "\n",
    "To find 69 using sequential search, the list would be iterated 7 times. Using a binary search instead, this process would be much more efficient. The search would start from the middle index, then going to the first and last index and dividing by two. This process is repeated until the number 69 is found."
   ]
  },
  {
   "attachments": {},
   "cell_type": "markdown",
   "metadata": {},
   "source": [
    "# 6\n",
    "Make a diagram explaining how you found the list (not tree, include equation)\n",
    "\n",
    "See comment for image \n"
   ]
  },
  {
   "attachments": {},
   "cell_type": "markdown",
   "metadata": {},
   "source": [
    "# 7 \n",
    "Put this list of strings in a order that can be used for binary search [“store”,”Market”,”Walmart”,Target”,”Ralphs”]\n",
    "\n",
    "[”Market”,”Walmart”,“store”,Target”,”Ralphs”]"
   ]
  },
  {
   "attachments": {},
   "cell_type": "markdown",
   "metadata": {},
   "source": [
    "# 8 \n",
    "\n",
    "Explain why Binary Search is more efficient than Sequential Search\n",
    "\n",
    "Binary search is more efficient because it moves exponentially while sequential search moves through the list one by one. Binary search takes out half of the possibilities every iteration. Since you start at the middle index, you can either choose to pick the group that is greater than the middle index, or the group that is lower. As a result, you will rule out half of the known possibilities every single time you make a cut."
   ]
  },
  {
   "attachments": {},
   "cell_type": "markdown",
   "metadata": {},
   "source": [
    "# 9 \n",
    " [64,36,16,11,9] Explain which number you are finding, how many check it would take, and make a binary search tree\n",
    "\n",
    "If I am searching for the number 11, which would take two iterations. You would start at 16, the middle index. Then you would do 3+5/2 to get 4, so the next middle index would be 11, which is the number we want to find.\n",
    "\n",
    "See comment for image \n",
    "\n"
   ]
  }
 ],
 "metadata": {
  "kernelspec": {
   "display_name": "Python 3",
   "language": "python",
   "name": "python3"
  },
  "language_info": {
   "codemirror_mode": {
    "name": "ipython",
    "version": 3
   },
   "file_extension": ".py",
   "mimetype": "text/x-python",
   "name": "python",
   "nbconvert_exporter": "python",
   "pygments_lexer": "ipython3",
   "version": "3.8.10"
  },
  "orig_nbformat": 4,
  "vscode": {
   "interpreter": {
    "hash": "916dbcbb3f70747c44a77c7bcd40155683ae19c65e1c03b4aa3499c5328201f1"
   }
  }
 },
 "nbformat": 4,
 "nbformat_minor": 2
}
