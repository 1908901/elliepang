{
 "cells": [
  {
   "cell_type": "code",
   "execution_count": 5,
   "metadata": {},
   "outputs": [
    {
     "name": "stdout",
     "output_type": "stream",
     "text": [
      "Hi, my name is Ellie and I like to travel.\n",
      "One of my favorite places to go is the beach.\n"
     ]
    }
   ],
   "source": [
    "console.log(\"Hi, my name is Ellie and I like to travel.\");\n",
    "var Beach = \"One of my favorite places to go is the beach.\";\n",
    "console.log(Beach)"
   ]
  }
 ],
 "metadata": {
  "kernelspec": {
   "display_name": "JavaScript (Node.js)",
   "language": "javascript",
   "name": "javascript"
  },
  "language_info": {
   "file_extension": ".js",
   "mimetype": "application/javascript",
   "name": "javascript",
   "version": "6.11.2"
  },
  "orig_nbformat": 4
 },
 "nbformat": 4,
 "nbformat_minor": 2
}
