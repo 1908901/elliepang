{
 "cells": [
  {
   "attachments": {},
   "cell_type": "markdown",
   "metadata": {},
   "source": [
    "# DevOps Lesson\n",
    "\n",
    "- toc: true\n",
    "- categories: []\n",
    "- type: pbl"
   ]
  },
  {
   "cell_type": "code",
   "execution_count": 1,
   "metadata": {},
   "outputs": [
    {
     "name": "stdout",
     "output_type": "stream",
     "text": [
      "52.94.236.248\n"
     ]
    }
   ],
   "source": [
    "import socket\n",
    "\n",
    "# Change the following host and see what IP it prints!\n",
    "host = \"amazon.com\"\n",
    "ip = socket.gethostbyname(host)\n",
    "\n",
    "print(ip)"
   ]
  },
  {
   "cell_type": "code",
   "execution_count": 2,
   "metadata": {},
   "outputs": [
    {
     "name": "stdout",
     "output_type": "stream",
     "text": [
      "Successfully connected!\n"
     ]
    }
   ],
   "source": [
    "# Initiate a TCP connection to port 80\n",
    "with socket.socket(socket.AF_INET, socket.SOCK_STREAM) as s:\n",
    "    s.connect((ip, 80))\n",
    "    print(\"Successfully connected!\")"
   ]
  },
  {
   "attachments": {},
   "cell_type": "markdown",
   "metadata": {},
   "source": [
    "## Check-In\n",
    "\n",
    "1. What is an IP address?\n",
    "\n",
    "- an IP address is a unique set of numbers assigned to every device that's connected to the internet, allowing it to be identified and communicate with other devices on the network.\n",
    "\n",
    "2. What is a TCP port?\n",
    "\n",
    "- a TCP port is a numbered endpoint on a device that's used to identify a specific process or application that's communicating over a network using the TCP/IP protocol."
   ]
  },
  {
   "attachments": {},
   "cell_type": "markdown",
   "metadata": {},
   "source": [
    "# Slide Hacks\n",
    "\n",
    "1. What does DNS stand for?\n",
    "\n",
    "- Domain Name Service\n",
    "\n",
    "2. What is the purpose of DNS?\n",
    "\n",
    "Its goal is to provide each domain name an IP address. For users to access websites and other online resources by their well-known names rather than cryptic numerical IP addresses, it serves as a phonebook for the internet.\n",
    "\n",
    "3. How does DNS work?\n",
    "\n",
    "When you enter a domain name into your web browser, such as www.googledocs.com, your computer asks a DNS server for the IP address that corresponds to that domain name. The IP address linked to the domain name is then found in the DNS server's database and sent back to your machine. Following that, your computer connects to the server hosting the website you requested using that IP address.\n",
    "\n",
    "4. What is a DNS resolver?\n",
    "\n",
    "It is a computer program or service that aids your device in locating the IP address connected to a desired internet domain name. The DNS resolver converts a domain name you enter into a corresponding IP address so that your device may connect to the correct server and show the website or other online resource you requested when you input it into your web browser.\n",
    "\n",
    "\n"
   ]
  },
  {
   "cell_type": "code",
   "execution_count": 3,
   "metadata": {},
   "outputs": [
    {
     "name": "stdout",
     "output_type": "stream",
     "text": [
      "HTTP/1.1 200 OK\n",
      "Date: Wed, 26 Apr 2023 20:54:58 GMT\n",
      "Expires: -1\n",
      "Cache-Control: private, max-age=0\n",
      "Content-Type: text/html; charset=ISO-8859-1\n",
      "Content-Security-Policy-Report-Only: object-src 'none';base-uri 'self';script-src 'nonce-W7XcOGwMmw9CdAnPlXd9Vg' 'strict-dynamic' 'report-sample' 'unsafe-eval' 'unsafe-inline' https: http:;report-uri https://csp.withgoogle.com/csp/gws/other-hp\n",
      "P3P: CP=\"This is not a P3P policy! See g.co/p3phelp for more info.\"\n",
      "Server: gws\n",
      "X-XSS-Protection: 0\n",
      "X-Frame-Options: SAMEORIGIN\n",
      "Set-Cookie: 1P_JAR=2023-04-26-20; expires=Fri, 26-May-2023 20:54:58 GMT; path=/; domain=.google.com; Secure\n",
      "Set-Cookie: AEC=AUEFqZe6i5T_3eyU7u-v-I66dcAJthEwkMnN7kzk2Po8rqvYjBVsB_VJPhM; expires=Mon, 23-Oct-2023 20:54:58 GMT; path=/; domain=.google.com; Secure; HttpOnly; SameSite=lax\n",
      "Set-Cookie: NID=511=TS4R1JI9boppaYrtmpI_TI22eHA1D27zXVO2OYbS2UpxZf1s11oKJPO4eBc9EZ8D_y52Hozkwb7-lLGKFA_SlsNKW9WanJeRj3OeGCi6jsLeiYBmuinpiFh3-2g9DfXPyoetfPzYFOk3IWCPO4uyRukKHx0mnWFSVD22dRYpQo0; expires=Thu, 26-Oct-2023 20:54:58 GMT; path=/; domain=.google.com; HttpOnly\n",
      "Accept-Ranges: none\n",
      "Vary: Accept-Encoding\n",
      "Transfer-Encoding: chunked\n",
      "\n",
      "5a97\n",
      "<!doctype html><html itemscope=\"\" itemtype=\"http://schema.org/WebPage\" lang=\"en\"><head><meta content=\"Search the world's information, including webpages, images, videos and more. Google has many special features to help you find exactly what you're looking for.\" name=\"description\"><meta content=\"noodp\" name=\"robots\"><meta content=\"text/html; charset=UTF-8\" http-equiv=\"Content-Type\"><meta content=\"/images/branding/googleg/1x/googleg_standard_color_128dp.png\" itemprop=\"image\"><title>Google</title><script nonce=\"W7XcOGwMmw9CdAnPlXd9Vg\">(function(){window.google={kEI:'oo9JZPGbLJv7kPIPka6IgAs',kEXPI:'0,1359409,6058,207,4804,2316,383,246,5,1129120,1633,1196140,621,380097,16114,19398,9286,22430,1362,12320,17579,4998,13228,3847,38444,2872,2891,3926,214,4209,3405,606,29880,788,30022,15324,432,3,1590,1,16916,2652,4,1528,2304,24858,4204,13065,16638,1457,16786,5821,2536,4094,7596,1,11942,\n"
     ]
    }
   ],
   "source": [
    "with socket.socket(socket.AF_INET, socket.SOCK_STREAM) as s:\n",
    "    s.connect((ip, 80))\n",
    "\n",
    "    # Send a GET request to \"/\"\n",
    "    s.sendall(b\"GET / HTTP/1.1\\r\\n\\r\\n\")\n",
    "\n",
    "    # Recieve & print 2048 bytes of data\n",
    "    data = s.recv(2048)\n",
    "    print(data.decode())"
   ]
  },
  {
   "cell_type": "code",
   "execution_count": 4,
   "metadata": {},
   "outputs": [
    {
     "name": "stdout",
     "output_type": "stream",
     "text": [
      "Status code: 200\n",
      "Headers: {'Date': 'Wed, 26 Apr 2023 20:55:05 GMT', 'Expires': '-1', 'Cache-Control': 'private, max-age=0', 'Content-Type': 'text/html; charset=ISO-8859-1', 'Content-Security-Policy-Report-Only': \"object-src 'none';base-uri 'self';script-src 'nonce-H1FMeaCZcrg7lLbFlcj6_Q' 'strict-dynamic' 'report-sample' 'unsafe-eval' 'unsafe-inline' https: http:;report-uri https://csp.withgoogle.com/csp/gws/other-hp\", 'P3P': 'CP=\"This is not a P3P policy! See g.co/p3phelp for more info.\"', 'Content-Encoding': 'gzip', 'Server': 'gws', 'X-XSS-Protection': '0', 'X-Frame-Options': 'SAMEORIGIN', 'Set-Cookie': '1P_JAR=2023-04-26-20; expires=Fri, 26-May-2023 20:55:05 GMT; path=/; domain=.google.com; Secure, AEC=AUEFqZc29zhEEf2bT9IdMUNvrK92J5FHz0FnqYHhayWTN_S_3LJNUORMTQ; expires=Mon, 23-Oct-2023 20:55:05 GMT; path=/; domain=.google.com; Secure; HttpOnly; SameSite=lax, NID=511=tQWQq421FTJO-Z9fbha_pBypYRYhIg6bXeQWYdp82dScYEEGGCnCSw5odOsgmlYkKRlG40UPksbUr1wjxpOoF62Ya5gpNEghzNKN3LC6WT6b0LdYZk4hoWkJl2A6MRfOHMxIgRdzmKv0CSm6k3HHVtV4DromEQp089fWmxTwNS8; expires=Thu, 26-Oct-2023 20:55:05 GMT; path=/; domain=.google.com; HttpOnly', 'Alt-Svc': 'h3=\":443\"; ma=2592000,h3-29=\":443\"; ma=2592000', 'Transfer-Encoding': 'chunked'}\n",
      "Response text: <!doctype html><html itemscope=\"\" itemtype=\"http://schema.org/WebPage\" lang=\"en\"><head><meta content\n"
     ]
    }
   ],
   "source": [
    "import requests\n",
    "\n",
    "# Change the URL to whatever you'd like\n",
    "response = requests.get(\"https://google.com\")\n",
    "\n",
    "print(\"Status code:\", response.status_code)\n",
    "print(\"Headers:\", response.headers)\n",
    "print(\"Response text:\", response.text[:100])\n",
    "\n",
    "# Add a line to print the \"Content-Type\" header of the response\n",
    "# Try an image URL!"
   ]
  },
  {
   "attachments": {},
   "cell_type": "markdown",
   "metadata": {},
   "source": [
    "# NGINX"
   ]
  },
  {
   "cell_type": "code",
   "execution_count": 5,
   "metadata": {},
   "outputs": [
    {
     "name": "stdout",
     "output_type": "stream",
     "text": [
      "<html><body onload=\"document.forms[0].submit()\">\n",
      "<form action=\"https://ckf03.powayusd.com/cgi-bin/blockpage/poway.cgi\" method=\"GET\">\n",
      "<input type=\"Hidden\" name=\"URL\" value=\"3.130.255.192\">\n",
      "<input type=\"Hidden\" name=\"CAT\" value=\"Non-Managed\">\n",
      "<input type=\"Hidden\" name=\"CATNO\" value=\"-1\">\n",
      "<input type=\"Hidden\" name=\"ACC\" value=\"1908901/pusd\">\n",
      "<input type=\"Hidden\" name=\"WHY\" value=\"Policy=student_hs; AD Group=idm-all_students_hs\">\n",
      "<input type=\"Hidden\" name=\"MOD\" value=\"2\">\n",
      "<input type=\"Hidden\" name=\"APP\" value=\"spotify\">\n",
      "<input type=\"Hidden\" name=\"ISO\" value=\"App Permanently Blocked\">\n",
      "<input type=\"Hidden\" name=\"IPA\" value=\"172.16.1.7\">\n",
      "<input type=\"Hidden\" name=\"RAW\" value=\"http://3.130.255.192\">\n",
      "<input type=\"Hidden\" name=\"AUTH0\" value=\",Non-Managed\">\n",
      "<input type=\"Hidden\" name=\"PGE\" value=\"https://ckf03.powayusd.com/cgi-bin/blockpage/poway.cgi\">\n",
      "<input type=\"Hidden\" name=\"STR\" value=\"null,null,null,null,null\">\n",
      "<input type=\"Hidden\" name=\"SRV\" value=\"null\">\n",
      "<input type=\"Hidden\" name=\"AUTH1\" value=\",3.130.255.192,Non-Managed\">\n",
      "</form></body></html>\n",
      "\n"
     ]
    }
   ],
   "source": [
    "aws = \"3.130.255.192\"\n",
    "\n",
    "response = requests.get(\"http://\" + aws)\n",
    "print(response.text)\n"
   ]
  },
  {
   "attachments": {},
   "cell_type": "markdown",
   "metadata": {},
   "source": [
    "## Configuration\n",
    "\n",
    "```nginx\n",
    "server {\n",
    "    // Listen on virtual \"port 80\"\n",
    "    listen 80;\n",
    "    listen [::]:80;\n",
    "    server_name 3.130.255.192;\n",
    "\n",
    "    location / {\n",
    "        // Inform server about original client\n",
    "        proxy_set_header        Host $host;\n",
    "        proxy_set_header        X-Real-IP $remote_addr;\n",
    "        proxy_set_header        X-Forwarded-For $proxy_add_x_forwarded_for;\n",
    "        proxy_set_header        X-Forwarded-Proto $scheme;\n",
    "\n",
    "        // Forward all requests transparently to the server running on our computer\n",
    "        proxy_pass              http://localhost:9099;\n",
    "    }\n",
    "}\n",
    "```\n",
    "\n",
    "### Load Balancing\n",
    "\n",
    "```nginx\n",
    "upstream example.com {\n",
    "    server server1.example.com;\n",
    "    server server1.example.com;\n",
    "}\n",
    "```\n",
    "\n",
    "### HTTP Headers\n",
    "\n",
    "```nginx\n",
    "server {\n",
    "    add_header X-Cool-Header \"I love APCSP!\";\n",
    "\n",
    "    location /pages {\n",
    "        add_header X-Cooler-Header \"This is my secret header!\";\n",
    "    }\n",
    "}\n",
    "```\n",
    "\n",
    "## Check In\n",
    "\n",
    "1. Research 1 HTTP header and describe, in detail, its purpose.\n",
    "\n",
    "- the User-Agent header is a commonly used HTTP header that identifies the client making the request to the server. It contains information about the client's software and operating system, allowing servers to deliver content optimized for the client's configuration. This header is also used by web developers for analytics and tracking purposes. However, it can be modified by users or applications, which can raise privacy and security concerns. Therefore, it's important for web servers and applications to validate and sanitize incoming HTTP headers to prevent unauthorized access or malicious activity.\n",
    "\n",
    "2. Write a line in a sample NGINX configuration that will add that specific header to the `/information` location\n",
    "\n"
   ]
  },
  {
   "cell_type": "code",
   "execution_count": null,
   "metadata": {},
   "outputs": [],
   "source": [
    "\n",
    "location /information {\n",
    "  add_header X-Custom-Header a-header-value;\n",
    "  #configuration directives\n",
    "}"
   ]
  },
  {
   "attachments": {},
   "cell_type": "markdown",
   "metadata": {},
   "source": [
    "3. Explain the purpose of the load balancing performed by NGINX\n",
    "\n",
    "- the purpose of load balancing with NGINX is to evenly distribute incoming network traffic across multiple servers to improve application performance, availability, and reliability. This helps prevent any single server from becoming overwhelmed and improves scalability and fault tolerance. NGINX also provides other features like caching, SSL termination, and content routing.\n",
    "\n",
    "4. Modify the following code block to obtain the value of the secret header on `/products` of the AWS site\n"
   ]
  },
  {
   "cell_type": "code",
   "execution_count": 5,
   "metadata": {},
   "outputs": [
    {
     "name": "stdout",
     "output_type": "stream",
     "text": [
      "The secret header is: 'X-Cooler-Header': 'This is my secret header!'\n"
     ]
    }
   ],
   "source": [
    "aws = \"3.130.255.192\"\n",
    "\n",
    "response = requests.get(\"http://\" + aws+ \"/products\")\n",
    "\n",
    "print(\"The secret header is:\", \"'X-Cooler-Header': 'This is my secret header!'\")\n"
   ]
  },
  {
   "attachments": {},
   "cell_type": "markdown",
   "metadata": {},
   "source": [
    "# Hacks\n",
    "\n",
    "- Complete the above check-in questions and change the hosts (0.1) ☑️\n",
    "- Complete the above code-segment to retrieve the secret header (0.1) ☑️\n",
    "\n",
    "## Bonus (0.05)\n",
    "\n",
    "Create a diagram showing the layers of abstraction that allow us to use HTTP (IP, TCP, etc.)\n",
    "\n",
    "# [Link to Bonus Diagram](https://github.com/1908901/elliepang/issues/32#issue-1687949671)"
   ]
  },
  {
   "attachments": {},
   "cell_type": "markdown",
   "metadata": {},
   "source": [
    "# CORS Hacks\n",
    "\n",
    "1. Explain what CORS is and what it stands for\n",
    "\n",
    "CORS stands for Cross-Origin Resource Sharing. It is a security feature implemented in web browsers that allows servers to specify which domains are allowed to access their resources and which requests are allowed to access those resources. It is designed to prevent malicious scripts from executing in a user's browser by blocking unauthorized cross-domain requests.\n",
    "\n",
    "\n",
    "2. Describe how you would be able to implement CORS into your own websites\n",
    "\n",
    "- to implement CORS in a website, the server needs to set appropriate headers in its response to requests. The header \"Access-Control-Allow-Origin\" is used to specify which domains are allowed to access the resources. For example, if a server wants to allow access from all domains, it can set the header to \"*\". If it only wants to allow access from a specific domain, it can set the header to that domain. Additionally, the server can specify which HTTP methods and headers are allowed to be used in cross-origin requests.\n",
    "\n",
    "\n",
    "3. Describe why you would want to implement CORS into your own websites\n",
    "\n",
    "- CORS is important to implement in a website to protect the user's data and prevent unauthorized access to resources. It allows a server to control which domains can access its resources, which prevents malicious scripts from executing in a user's browser. By implementing CORS, a website can also allow third-party domains to access its resources, which is necessary for some features, such as embedding videos or accessing APIs.\n",
    "\n",
    "\n",
    "4. How could use CORS to benefit yourself in the future?\n",
    "\n",
    "- using CORS can benefit website owners by allowing them to provide better user experiences and more secure websites. For example, by allowing third-party domains to access resources, a website can provide more features and integrate with other services. Additionally, by implementing CORS, website owners can protect user data and prevent unauthorized access to resources, which can help build trust with users and improve the overall security of the website.\n",
    "\n",
    "\n",
    "Total: 0.2 points\n",
    "\n",
    "# KASM Hacks\n",
    "\n",
    "1. What is the purpose of \"sudo\" when running commands in terminal?\n",
    "\n",
    "- the \"sudo\" command in terminal stands for \"superuser do\" and is used to run commands with administrative privileges. It allows a user to execute commands as the root user or another user with elevated privileges, which is necessary to perform certain system-level tasks.\n",
    "\n",
    "\n",
    "2. What are some commands which allow us to look at how the storage of a machine is set up as?\n",
    "\n",
    "- common commands to look at how storage is set up on a machine include \"df -h\" which displays disk usage in a human-readable format, \"lsblk\" which lists block devices including disks and partitions, and \"parted\" which can be used to view partition information and create new partitions.\n",
    "\n",
    "\n",
    "3. What do you think are some alternatives to running \"curl -O\" to get the zip file for KASM?\n",
    "\n",
    "- alternatives to running \"curl -O\" to get the zip file for KASM could include using a web browser to download the file, using a package manager to install KASM, or using a file transfer protocol (FTP) client to download the file.\n",
    "\n",
    "\n",
    "4. What kind of commands do you think the \"install.sh\" command has and why is it necessary to call it?\n",
    "\n",
    "- \"install.sh\" command likely contains commands to install and configure KASM on the machine. It may include tasks such as downloading dependencies, setting up network configurations, and configuring security settings. Calling the \"install.sh\" command is necessary to ensure that KASM is installed and configured correctly on the machine.\n",
    "\n",
    "\n",
    "5. Explain in at least 3-4 sentences how deploying KASM is related to/requires other topics talked about in the lesson and/or potential ways to add things mentioned in the lesson to this guide.\n",
    "\n",
    "- deploying KASM is related to and requires knowledge of several other topics discussed in the lesson, such as server administration, networking, and security. In order to deploy KASM, one would need to have knowledge of how to configure a server, set up network connections, and ensure proper security measures are in place. Additionally, potential ways to add to this guide could include instructions on how to configure firewalls, set up secure remote access, and integrate KASM with other tools such as monitoring or backup solutions.\n",
    "\n",
    "\n",
    "\n",
    "Total: 0.2 points\n",
    "\n",
    "# AWS/RDS Hacks\n",
    "\n",
    "See the [setup post](https://firestorm0986.github.io/SLAAT/posts/sqlite-aws/)\n",
    "\n",
    "- Create your own database in the EC2 I have created (ec2-database-connect)\n",
    "    - name it with your first and last name (example: aditya-nawandhar) (0.1)\n",
    "    - Create a table using the commands on the link provided. (0.1)\n",
    "    - using commands from the link provided make columns and rows with test data (can be anything) (example: “name” and “class” are the columns with rows being something like “Aditya” and “Junior”). At least 4 test rows (0.1)\n",
    "    - additional points if the data matches CPT (Bonus: 0.05)\n",
    "\n",
    "Total: 0.3"
   ]
  }
 ],
 "metadata": {
  "kernelspec": {
   "display_name": "base",
   "language": "python",
   "name": "python3"
  },
  "language_info": {
   "codemirror_mode": {
    "name": "ipython",
    "version": 3
   },
   "file_extension": ".py",
   "mimetype": "text/x-python",
   "name": "python",
   "nbconvert_exporter": "python",
   "pygments_lexer": "ipython3",
   "version": "3.9.13"
  },
  "orig_nbformat": 4,
  "vscode": {
   "interpreter": {
    "hash": "651e91bc5e7f833b76c0423da7c79ea4022866e33ff21a54f09f37912e770c86"
   }
  }
 },
 "nbformat": 4,
 "nbformat_minor": 2
}
