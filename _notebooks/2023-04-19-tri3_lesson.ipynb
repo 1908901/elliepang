{
 "cells": [
  {
   "attachments": {},
   "cell_type": "markdown",
   "metadata": {},
   "source": [
    "# Tri-3-Lesson\n",
    "> Reviewing Data Analysis.\n",
    "- toc: true\n",
    "- categories: [Notebooks]\n",
    "- week: 31"
   ]
  },
  {
   "attachments": {},
   "cell_type": "markdown",
   "metadata": {},
   "source": [
    "## What you should Have to Start\n",
    "\n",
    "- Should have wget this file (tri3-lesson.ipynb)\n",
    "- wget this file: https://raw.githubusercontent.com/JoshuaW03628/Repository-1/master/nba_player_statistics.csv\n",
    "- Copy Path from nba_player_statistics.csv and replace prior path for it."
   ]
  },
  {
   "attachments": {},
   "cell_type": "markdown",
   "metadata": {},
   "source": [
    "# Lesson Portion 1: ReIntroduction to Data Analysis, NunPy, and Pandas, Why is it important?"
   ]
  },
  {
   "attachments": {},
   "cell_type": "markdown",
   "metadata": {},
   "source": [
    "### Data Analysis."
   ]
  },
  {
   "attachments": {},
   "cell_type": "markdown",
   "metadata": {},
   "source": [
    "- Data Analysis is the process of examining data sets in order to find trends and draw conclusions about the given information. Data analysis is important because it helps businesses optimize their performances."
   ]
  },
  {
   "attachments": {},
   "cell_type": "markdown",
   "metadata": {},
   "source": [
    "### What is NunPy and Pandas"
   ]
  },
  {
   "attachments": {},
   "cell_type": "markdown",
   "metadata": {},
   "source": [
    "- Pandas library involves a lot of data analysis in Python. NumPy Library is mostly used for working with numerical values and it makes it easy to apply with mathematical functions. \n",
    "- Imagine you have a lot of toys, but they are all mixed up in a big box. NumPy helps you to put all the same types of toys together, like all the cars in one pile and all the dolls in another.\n",
    "Pandas is like a helper that helps you to remember where each toy is located. So, if you want to find a specific toy, like a red car, you can ask Pandas to find it for you.\n",
    "- Just like how it's easier to find a toy when they are sorted and organized, it's easier for grown-ups to understand and analyze big sets of numbers when they use NumPy and Pandas.\n"
   ]
  },
  {
   "attachments": {},
   "cell_type": "markdown",
   "metadata": {},
   "source": [
    "# Lesson Portion 2 More into NunPy\n",
    "\n",
    "### What we are covering;\n",
    "\n",
    "- Explanation of NumPy and its uses in data analysis\n",
    "- Importing NumPy library\n",
    "- Examining NumPy arrays\n",
    "- Creating NumPy arrays and performing intermediate array operations\n",
    "- Popcorn Hacks, Make your own percentile NunPy array"
   ]
  },
  {
   "attachments": {},
   "cell_type": "markdown",
   "metadata": {},
   "source": [
    "#### What is NunPy's use in data analysis/ how to import NunPy."
   ]
  },
  {
   "attachments": {},
   "cell_type": "markdown",
   "metadata": {},
   "source": [
    "NumPy is a tool in Python that helps with doing math and data analysis. It's great for working with large amounts of data, like numbers in a spreadsheet. NumPy is really good at doing calculations quickly and accurately, like finding averages, doing algebra, and making graphs. It's used a lot by scientists and people who work with data because it makes their work easier and faster."
   ]
  },
  {
   "cell_type": "code",
   "execution_count": 1,
   "metadata": {},
   "outputs": [],
   "source": [
    "import numpy as np"
   ]
  },
  {
   "attachments": {},
   "cell_type": "markdown",
   "metadata": {},
   "source": [
    "### List of NunPy Functions, what they do, and examples.\n",
    "\n",
    "- Link; https://www.educba.com/numpy-functions/\n",
    "\n"
   ]
  },
  {
   "attachments": {},
   "cell_type": "markdown",
   "metadata": {},
   "source": [
    "### Example of Using NunPy in Our Project"
   ]
  },
  {
   "attachments": {},
   "cell_type": "markdown",
   "metadata": {},
   "source": [
    "This code calculates the total plate appearances for a baseball player using NumPy's sum() function, similar to the original example. It then uses NumPy to calculate the total number of bases (hits plus walks) for the player, and divides that by the total number of plate appearances to get the on-base percentage. The results are then printed to the console."
   ]
  },
  {
   "cell_type": "code",
   "execution_count": 2,
   "metadata": {},
   "outputs": [
    {
     "name": "stdout",
     "output_type": "stream",
     "text": [
      "Total plate appearances: 21\n",
      "On-base percentage: 0.857\n"
     ]
    }
   ],
   "source": [
    "import numpy as np\n",
    "\n",
    "# Example data\n",
    "player_hits = np.array([3, 1, 2, 0, 1, 2, 1, 2])  # Player's hits in each game\n",
    "player_walks = np.array([1, 0, 0, 1, 2, 1, 1, 0])  # Player's walks in each game\n",
    "player_strikeouts = np.array([2, 1, 0, 2, 1, 1, 0, 1])  # Player's strikeouts in each game\n",
    "\n",
    "# array to store plate appearances (PA) for the player\n",
    "total_pa = np.sum(player_hits != 0) + np.sum(player_walks) + np.sum(player_strikeouts)\n",
    "\n",
    "# array to store on-base percentage (OBP) for the player\n",
    "total_bases = np.sum(player_hits) + np.sum(player_walks)\n",
    "obp = total_bases / total_pa\n",
    "\n",
    "# Print the total plate appearances and on-base percentage for the player\n",
    "print(f\"Total plate appearances: {total_pa}\")\n",
    "print(f\"On-base percentage: {obp:.3f}\")\n"
   ]
  },
  {
   "attachments": {},
   "cell_type": "markdown",
   "metadata": {},
   "source": [
    "## Activity 1; PopCorn Hacks; Creating a NunPy Array and Analyzing the Data using Array Operations"
   ]
  },
  {
   "cell_type": "code",
   "execution_count": 3,
   "metadata": {},
   "outputs": [
    {
     "name": "stdout",
     "output_type": "stream",
     "text": [
      "The 25th percentile height is 192.5 cm.\n",
      "The 50th percentile height is 198.0 cm.\n",
      "The 75th percentile height is 202.0 cm.\n",
      "There are 2 players in the top 10% tallest.\n"
     ]
    }
   ],
   "source": [
    "import numpy as np\n",
    "\n",
    "#Create a NumPy array of the heights of players in a basketball team\n",
    "heights = np.array([192, 195, 193, 200, 211, 199, 201, 198, 184, 190, 196, 203, 208, 182, 207])\n",
    "\n",
    "# Calculate the percentile rank of each player's height\n",
    "percentiles = np.percentile(heights, [25, 50, 75])\n",
    "\n",
    "# Print the results\n",
    "print(\"The 25th percentile height is\", percentiles[0], \"cm.\")\n",
    "print(\"The 50th percentile height is\", percentiles[1], \"cm.\")\n",
    "print(\"The 75th percentile height is\", percentiles[2], \"cm.\")\n",
    "\n",
    "# Determine the number of players who are in the top 10% tallest\n",
    "top_10_percent = np.percentile(heights, 90)\n",
    "tallest_players = heights[heights >= top_10_percent]\n",
    "\n",
    "print(\"There are\", len(tallest_players), \"players in the top 10% tallest.\")\n"
   ]
  },
  {
   "attachments": {},
   "cell_type": "markdown",
   "metadata": {},
   "source": [
    "## personalized version"
   ]
  },
  {
   "cell_type": "code",
   "execution_count": 28,
   "metadata": {},
   "outputs": [
    {
     "name": "stdout",
     "output_type": "stream",
     "text": [
      "The 25th percentile weight is 107.84 cm.\n",
      "The 50th percentile weight is 177.27999999999997 cm.\n",
      "The 75th percentile weight is 136.96000000000006 cm.\n",
      "There are 2 players in the top 10% tallest.\n"
     ]
    }
   ],
   "source": [
    "import numpy as np\n",
    "\n",
    "#Create a NumPy array of the heights of players in a basketball team\n",
    "weight = np.array([120, 56, 93, 100, 110, 99, 101, 108, 184, 109, 136, 103, 108, 102, 107])\n",
    "\n",
    "# Calculate the percentile rank of each player's height\n",
    "percentiles = np.percentile(weight, [56, 99, 93])\n",
    "\n",
    "# Print the results\n",
    "print(\"The 25th percentile weight is\", percentiles[0], \"cm.\")\n",
    "print(\"The 50th percentile weight is\", percentiles[1], \"cm.\")\n",
    "print(\"The 75th percentile weight is\", percentiles[2], \"cm.\")\n",
    "\n",
    "# Determine the number of players who are in the top 10% tallest\n",
    "top_10_percent = np.percentile(weight, 90)\n",
    "tallest_players = weight[weight >= top_10_percent]\n",
    "\n",
    "print(\"There are\", len(tallest_players), \"players in the top 10% tallest.\")\n"
   ]
  },
  {
   "attachments": {},
   "cell_type": "markdown",
   "metadata": {},
   "source": [
    "# Lesson Portion 3 More into Pandas\n",
    "\n",
    "### What we are Covering\n",
    "- Explanation of Pandas and its uses in data analysis\n",
    "- Importing Pandas library\n",
    "- Loading data into Pandas DataFrames from CSV files\n",
    "- Manipulating and exploring data in Pandas DataFrames\n",
    "- Example of using Pandas for data analysis tasks such as filtering and sorting\n"
   ]
  },
  {
   "attachments": {},
   "cell_type": "markdown",
   "metadata": {},
   "source": [
    "## What are pandas and what is its purpose?\n",
    "\n",
    "- Pandas is a software library that is used in Python\n",
    "- Pandas are used for data analysis and data manipulation\n",
    "- Pandas offer data structures and operations for manipulating numerical tables and time series.\n",
    "- Pandas is free\n"
   ]
  },
  {
   "attachments": {},
   "cell_type": "markdown",
   "metadata": {},
   "source": [
    "## Things you can do using pandas\n",
    "\n",
    "- Data Cleansing; Identifying and correcting errors, inconsistencies, and inaccuracies in datasets.\n",
    "- Data fill; Filling in missing values in datasets.\n",
    "- Statistical Analysis; Analyzing datasets using statistical techniques to draw conclusions and make predictions.\n",
    "- Data Visualization; Representing datasets visually using graphs, charts, and other visual aids.\n",
    "- Data inspection; Examining datasets to identify potential issues or patterns, such as missing data, outliers, or trends.\n"
   ]
  },
  {
   "attachments": {},
   "cell_type": "markdown",
   "metadata": {},
   "source": [
    "## Pandas and Data analysis\n",
    "The 2 most important data structures in Pandas are:\n",
    "- Series ; A Series is a one-dimensional labeled array that can hold data of any type (integer, float, string, etc.). It is similar to a column in a spreadsheet or a SQL table. Each element in a Series has a label, known as an index. A Series can be created from a list, a NumPy array, a dictionary, or another Pandas Series.\n",
    "- DataFrame ;A DataFrame is a two-dimensional labeled data structure that can hold data of different types (integer, float, string, etc.). It is similar to a spreadsheet or a SQL table. Each column in a DataFrame is a Series, and each row is indexed by a label, known as an index. A DataFrame can be created from a dictionary of Series or NumPy arrays, a list of dictionaries, or other Pandas DataFrame."
   ]
  },
  {
   "attachments": {},
   "cell_type": "markdown",
   "metadata": {},
   "source": [
    "## Dataframes"
   ]
  },
  {
   "cell_type": "code",
   "execution_count": 5,
   "metadata": {},
   "outputs": [],
   "source": [
    "# Importing Pandas \n",
    "import pandas as pd\n"
   ]
  },
  {
   "cell_type": "code",
   "execution_count": 6,
   "metadata": {},
   "outputs": [
    {
     "data": {
      "text/plain": [
       "'1.4.4'"
      ]
     },
     "execution_count": 6,
     "metadata": {},
     "output_type": "execute_result"
    }
   ],
   "source": [
    "# Check if pandas is working\n",
    "pd.__version__"
   ]
  },
  {
   "attachments": {},
   "cell_type": "markdown",
   "metadata": {},
   "source": [
    "### Importing CSV Data"
   ]
  },
  {
   "attachments": {},
   "cell_type": "markdown",
   "metadata": {},
   "source": [
    "- imports the Pandas library and assigns it an alias 'pd'.\n",
    "- Loads a CSV file named 'nba_player_statistics.csv' into a Pandas DataFrame called 'df'.\n",
    "- Specifies a player's name 'Jimmy Butler' to filter the DataFrame for that player's stats. It creates a new DataFrame called 'player_stats' which only contains rows where the 'NAME' column matches 'Jimmy Butler'.\n",
    "- Displays the player's stats for points per game (PPG), rebounds per game (RPG), and assists per game (APG) using the print() function and string formatting.\n",
    "- The code uses the double square brackets [[PPG', 'RPG', 'APG']] to select only the columns corresponding to the player's points per game, rebounds per game, and assists per game from the player_stats DataFrame.\n",
    "- In summary, the code loads NBA player statistics data from a CSV file, filters it for a specific player, and displays the stats for that player's PPG, RPG, and APG using a Pandas DataFrame."
   ]
  },
  {
   "cell_type": "code",
   "execution_count": 36,
   "metadata": {},
   "outputs": [
    {
     "name": "stdout",
     "output_type": "stream",
     "text": [
      "\n",
      "Stats for Jimmy Butler:\n",
      "    PPG  RPG   APG\n",
      "0  35.0  5.0  11.0\n"
     ]
    }
   ],
   "source": [
    "import pandas as pd\n",
    "# Load the CSV file into a Pandas DataFrame\n",
    "df = pd.read_csv('/Users/gregpang/vscode/elliepang/_notebooks/nba_player_statistics.csv')\n",
    "# Filter the DataFrame to only include stats for a specific player (in this case, Jimmy Butler)\n",
    "player_name = 'Jimmy Butler'\n",
    "player_stats = df[df['NAME'] == player_name]\n",
    "# Display the stats for the player\n",
    "print(f\"\\nStats for {player_name}:\")\n",
    "print(player_stats[['PPG', 'RPG', 'APG']])"
   ]
  },
  {
   "attachments": {},
   "cell_type": "markdown",
   "metadata": {},
   "source": [
    "#### In this code segment below we use Pandas to read a CSV file containing NBA player statistics and store it in a DataFrame.\n",
    "#### The reason Pandas is useful in this scenario is because it provides various functionalities to filter, sort, and manipulate the NBA data efficiently. In this code, the DataFrame is filtered to only include the stats for the player you guys choose. "
   ]
  },
  {
   "attachments": {},
   "cell_type": "markdown",
   "metadata": {},
   "source": [
    "- Imports the Pandas library and assigns it an alias 'pd'.\n",
    "- Loads a CSV file named 'nba_player_statistics.csv' into a Pandas DataFrame called 'df'.\n",
    "- Asks the user to input a player name using the input() function and assigns it to the variable player_name.\n",
    "- Filters the DataFrame for the specified player name using the df[df['NAME'] == player_name] syntax, and assigns the resulting DataFrame to the variable player_stats.\n",
    "- Checks if the player_stats DataFrame is empty using the empty attribute. If it is empty, prints \"No stats found for that player.\" Otherwise, it proceeds to step 6.\n",
    "- Displays the player's stats for points per game (PPG), rebounds per game (RPG), assists per game (APG), and total points + rebounds + assists (P+R+A) using the print() function and string formatting.\n",
    "- In summary, this code loads NBA player statistics data from a CSV file, asks the user to input a player name, filters the DataFrame for that player's stats, and displays the player's stats for PPG, RPG, APG, and P+R+A. If the player is not found in the DataFrame, it prints a message indicating that no stats were found."
   ]
  },
  {
   "cell_type": "code",
   "execution_count": 18,
   "metadata": {},
   "outputs": [
    {
     "name": "stdout",
     "output_type": "stream",
     "text": [
      "\n",
      "Stats for Jordan Poole:\n",
      "     PPG  RPG  APG  P+R+A\n",
      "70  10.5  2.0  2.0   14.5\n"
     ]
    }
   ],
   "source": [
    "import pandas as pd\n",
    "df = pd.read_csv('/Users/gregpang/vscode/elliepang/_notebooks/nba_player_statistics.csv')\n",
    "# Load CSV file into a Pandas DataFrame\n",
    "player_name = input(\"Enter player name: \")\n",
    "# Get player name input from user\n",
    "player_stats = df[df['NAME'] == player_name]\n",
    "# Filter the DataFrame to only include stats for the specified player\n",
    "if player_stats.empty:\n",
    "    print(\"No stats found for that player.\")\n",
    "else:\n",
    "# Check if the player exists in the DataFrame\n",
    "    print(f\"\\nStats for {player_name}:\")\n",
    "print(player_stats[['PPG', 'RPG', 'APG', 'P+R+A']])\n",
    "# Display the stats for the player inputted."
   ]
  },
  {
   "attachments": {},
   "cell_type": "markdown",
   "metadata": {},
   "source": [
    "# Lesson Portion 4\n",
    "### What we will be covering\n",
    "- Example of analyzing data using both NumPy and Pandas libraries\n",
    "- Importing data into NumPy and Pandas Performing basic data analysis tasks such as mean, median, and standard deviation Visualization of data using Matplotlib library\n"
   ]
  },
  {
   "attachments": {},
   "cell_type": "markdown",
   "metadata": {},
   "source": [
    "### Example of analyzing data using both NumPy and Pandas libraries"
   ]
  },
  {
   "cell_type": "code",
   "execution_count": 37,
   "metadata": {},
   "outputs": [
    {
     "name": "stdout",
     "output_type": "stream",
     "text": [
      "\n",
      "Average stats for Devin Booker:\n",
      "PPG: 32.00\n",
      "RPG: 1.00\n",
      "APG: 6.00\n",
      "P+R+A: 39.00\n"
     ]
    }
   ],
   "source": [
    "import numpy as np\n",
    "import pandas as pd\n",
    "\n",
    "# Load CSV file into a Pandas DataFrame\n",
    "\n",
    "df = pd.read_csv('/Users/gregpang/vscode/elliepang/_notebooks/nba_player_statistics.csv')\n",
    "\n",
    "# Filter the DataFrame to only include stats for the specified player\n",
    "\n",
    "player_name = input(\"Enter player name: \")\n",
    "player_stats = df[df['NAME'] == player_name]\n",
    "if player_stats.empty:\n",
    "    print(\"No stats found for that player.\")\n",
    "else:\n",
    "\n",
    "    # Convert the player stats to a NumPy array\n",
    "    player_stats_np = np.array(player_stats[['PPG', 'RPG', 'APG', 'P+R+A']])\n",
    "\n",
    "    # Calculate the average of each statistic for the player\n",
    "\n",
    "    player_stats_avg = np.mean(player_stats_np, axis=0)\n",
    "\n",
    "    # Print out the average statistics for the player\n",
    "\n",
    "    print(f\"\\nAverage stats for {player_name}:\")\n",
    "    print(f\"PPG: {player_stats_avg[0]:.2f}\")\n",
    "    print(f\"RPG: {player_stats_avg[1]:.2f}\")\n",
    "    print(f\"APG: {player_stats_avg[2]:.2f}\")\n",
    "    print(f\"P+R+A: {player_stats_avg[3]:.2f}\")"
   ]
  },
  {
   "attachments": {},
   "cell_type": "markdown",
   "metadata": {},
   "source": [
    "NumPy impacts the given code because it performs operations on arrays efficiently. Specifically, it converts a Pandas DataFrame object to a NumPy array object, and then calculates the average statistics for a the player you guys inputted. Without NumPy, it would be more difficult and less efficient to perform these calculations on large data sets. It does the math for us."
   ]
  },
  {
   "attachments": {},
   "cell_type": "markdown",
   "metadata": {},
   "source": [
    "### Importing data into NumPy and Pandas Performing basic data analysis tasks such as mean, median, and standard deviation Visualization of data using Matplotlib library\n",
    "\n",
    "Matplotlib is used essentially to create visuals of data. charts,diagrams,etc."
   ]
  },
  {
   "cell_type": "code",
   "execution_count": 20,
   "metadata": {},
   "outputs": [
    {
     "name": "stdout",
     "output_type": "stream",
     "text": [
      "   RANK             NAME TEAM POS   AGE  GP   MPG  USG%   TO%  FTA  ...   APG  \\\n",
      "0     1     Jimmy Butler  Mia   F  33.6   1  42.9  34.3   9.9    8  ...  11.0   \n",
      "1     2    Kawhi Leonard  Lac   F  31.8   2  40.2  30.0  11.9   17  ...   6.0   \n",
      "2     3  Khris Middleton  Mil   F  31.7   1  33.1  37.5  19.8   10  ...   4.0   \n",
      "3     4     Devin Booker  Pho   G  26.5   2  44.1  28.8  16.2   14  ...   6.0   \n",
      "4     5     De'Aaron Fox  Sac   G  25.3   2  38.2  31.6   9.0   14  ...   7.0   \n",
      "\n",
      "   SPG  BPG  TPG   P+R   P+A  P+R+A    VI   ORtg   DRtg  \n",
      "0  3.0  0.0  3.0  40.0  46.0   51.0  11.6  117.2  103.8  \n",
      "1  2.0  0.5  3.0  41.0  40.5   47.0  11.0  129.5  110.4  \n",
      "2  0.0  0.0  5.0  42.0  37.0   46.0  12.8  115.5  111.9  \n",
      "3  2.5  1.5  4.0  33.0  38.0   39.0   5.2  121.9  111.0  \n",
      "4  3.5  0.5  2.5  34.0  38.0   41.0   9.1  112.6  108.8  \n",
      "\n",
      "[5 rows x 29 columns]\n",
      "Mean Minutes:  20.985483870967748\n",
      "Median Minutes:  23.0\n",
      "Standard Deviation Minutes:  12.844102823170283\n"
     ]
    },
    {
     "data": {
      "image/png": "[encoded data removed]",
      "text/plain": [
       "<Figure size 640x480 with 1 Axes>"
      ]
     },
     "metadata": {},
     "output_type": "display_data"
    }
   ],
   "source": [
    "import numpy as np\n",
    "import pandas as pd\n",
    "import matplotlib.pyplot as plt\n",
    "\n",
    "# Load the CSV file into a Pandas DataFrame\n",
    "df = pd.read_csv('/Users/gregpang/vscode/elliepang/_notebooks/nba_player_statistics.csv')\n",
    "\n",
    "# Print the first 5 rows of the DataFrame\n",
    "print(df.head())\n",
    "\n",
    "# Calculate the mean, median, and standard deviation of the 'Points' column\n",
    "mean_minutes = df['MPG'].mean()\n",
    "median_minutes = df['MPG'].median()\n",
    "stddev_minutes = df['MPG'].std()\n",
    "\n",
    "# Print the results\n",
    "print('Mean Minutes: ', mean_minutes)\n",
    "print('Median Minutes: ', median_minutes)\n",
    "print('Standard Deviation Minutes: ', stddev_minutes)\n",
    "\n",
    "# Create a histogram of the 'Points' column using Matplotlib\n",
    "plt.hist(df['MPG'], bins=20)\n",
    "plt.title('MPG Histogram')\n",
    "plt.xlabel('MPG')\n",
    "plt.ylabel('Frequency')\n",
    "plt.show()\n"
   ]
  },
  {
   "attachments": {},
   "cell_type": "markdown",
   "metadata": {},
   "source": [
    "In this example code, we first import the necessary libraries, including NumPy, Pandas, and Matplotlib. We then load the CSV file into a Pandas DataFrame using the pd.read_csv() function. We print the first 5 rows of the DataFrame using the df.head() function. Next, we calculate the mean, median, and standard deviation of the 'MPG' column using the appropriate Pandas methods, and print the results. And, we create a histogram of the 'MPG' column using Matplotlib by calling the plt.hist() function and setting appropriate axis labels and a title. We then call the plt.show() method to display the plot. Even though NumPy is not directly used in this code, it is an important underlying component of the pandas and Matplotlib libraries, which are used to load, manipulate and visualize data. It allows them to work more efficiently"
   ]
  },
  {
   "attachments": {},
   "cell_type": "markdown",
   "metadata": {},
   "source": [
    "# Lesson Portion 5; Summary"
   ]
  },
  {
   "attachments": {},
   "cell_type": "markdown",
   "metadata": {},
   "source": [
    "#### Summary/Goals of Lesson:\n",
    "One of our goals was to make you understand data analysis and how it can be important in optimizing business performance. We also wanted to make sure you understood the use of Pandas and NumPy libraries in data analysis, with a focus on NumPy. As someone who works with data, we find Pandas incredibly useful for manipulating, analyzing, and visualizing data in Python. The way we use pandas is to calculate individual player and team statistics. We are a group that works with numerical data, so NumPy is one of our favorite tools for working with arrays and applying mathematical functions to them. It is very fast at computing and manipulating arrays making it a very valuable tool for tracking statistics which is important to our group. For example, if you have an array of the points scored by each player in a game, you can use NumPy to calculate the total points scored, average points per player, or the highest and lowest scoring players.\n",
    "\n",
    "\n",
    "\n",
    "\n",
    "\n",
    "\n",
    "\n"
   ]
  },
  {
   "attachments": {},
   "cell_type": "markdown",
   "metadata": {},
   "source": [
    "# Lesson Portion 6 Hacks\n",
    "#### Printing a CSV File (0.5)\n",
    "- Use this link https://github.com/ali-ce/datasets to select csv file of a topic you are interested in, or you may find one online.\n",
    "- Once you select your topic make sure it is a csv file and then you want to press on the button that says raw.\n",
    "- After that copy that information and create a file with a name and .csv at the end and paste your information.\n",
    "- Below is a start that you can use for your hacks.\n",
    "- Your goal is to print 2 specific parts from data (example could be like population and country).\n",
    "\n",
    "#### Popcorn Hacks (0.2)\n",
    "- Lesson Portion 1.\n",
    "#### Answering Questions (0.2)\n",
    "- Found Below.\n",
    "\n",
    "## Submit By Thursday 8:35 A.M.\n",
    "- How to Submit: Slack a Blog Post that includes all of your hacks to \"Joshua Williams\" on Slack."
   ]
  },
  {
   "cell_type": "code",
   "execution_count": 25,
   "metadata": {},
   "outputs": [
    {
     "name": "stdout",
     "output_type": "stream",
     "text": [
      "First 5 rows:\n",
      "          Country  Population  Numer of Starbucks  \\\n",
      "0   United States   316128839               11851   \n",
      "1           China  1357380000                1462   \n",
      "2          Canada    35158304                1425   \n",
      "3           Japan   127338621                1052   \n",
      "4  United Kingdom    64097085                 770   \n",
      "\n",
      "   Starbucks per million inhabitants  \n",
      "0                              37.49  \n",
      "1                               1.08  \n",
      "2                              40.53  \n",
      "3                               8.26  \n",
      "4                              12.01  \n",
      "\n",
      "Rows for United States:\n",
      "         Country  Population  Numer of Starbucks  \\\n",
      "0  United States   316128839               11851   \n",
      "\n",
      "   Starbucks per million inhabitants  \n",
      "0                              37.49  \n"
     ]
    }
   ],
   "source": [
    "import pandas as pd\n",
    "# read the CSV file\n",
    "df = pd.read_csv(\"Starbucks World Stats.csv\")\n",
    "#print the first 5 rows of the DataFrame\n",
    "print(\"First 5 rows:\")\n",
    "print(df.head())\n",
    "\n",
    "#print blank line for formatting\n",
    "print()\n",
    "\n",
    "#print the rows with 'Country' column equal to 'United States'\n",
    "print(\"Rows for United States:\")\n",
    "print(df[df['Country'] == 'United States'])"
   ]
  },
  {
   "attachments": {},
   "cell_type": "markdown",
   "metadata": {},
   "source": [
    "## Question Hacks;\n",
    "\n",
    "\n",
    "What is NumPy and how is it used in data analysis?\n",
    "\n",
    "- The Python package NumPy is used for numerical computation. It enables users to efficiently manipulate and run mathematical operations on massive multi-dimensional arrays. Because it can quickly complete computations and handle enormous datasets, NumPy is frequently used in data analysis.\n",
    "\n",
    "\n",
    "\n",
    "What is Pandas and how is it used in data analysis?\n",
    "\n",
    "- Pandas is a Python library for analyzing and manipulating data. To work with structured data, such as tables, it offers data structures and operations. When performing data analysis, Pandas is frequently used to import data, clean and transform it, examine and summarize the data, carry out complex operations, and produce insights. It is used across many industries and makes the process of data analysis simpler.\n",
    "\n",
    "\n",
    "\n",
    "How is NunPy different than Pandas for data analysis?\n",
    "\n",
    "- The multi-dimensional array operations offered by NumPy are effective and are focused on numerical computing.On the other hand, Pandas is based on NumPy and adds more features designed exclusively for data analysis. It offers high-level data structures that can manage structured data with labeled columns and rows, like dataframes.\n",
    "\n",
    "\n",
    "What is a DataFrame?\n",
    "\n",
    "- a 2-dimensional table with rows and columns for organizing data, similar to a spreadsheet.\n",
    "\n",
    "\n",
    "What are some common operations you can perform with NunPy?\n",
    "\n",
    "- array creation, array manipulation, and array operations\n",
    "\n",
    "How Can You Incorporate Either of these Data Analysis Tools (NunPy, Pandas) into your project?\n",
    "\n",
    "- I may use NunPy and Pandas to organize the data that the user provided.\n",
    "\n"
   ]
  },
  {
   "attachments": {},
   "cell_type": "markdown",
   "metadata": {},
   "source": [
    "# Extra: How I incorportated data into my CPT Project"
   ]
  },
  {
   "attachments": {},
   "cell_type": "markdown",
   "metadata": {},
   "source": [
    "I incorporated aspects of this lesson into my CPT project code as it uses NumPy and data. The NumPy library is not explicitly imported or used in my code but the data is stored and updated in a JSON file named 'data.json'.\n",
    "\n",
    "The json module is imported to read and write JSON data. In the display_leaderboard function, the data is loaded from the file using json.load(). Then the data is sorted in descending order based on the high score, and the top 5 players and their scores are displayed on the screen.\n",
    "\n",
    "In the main code of my project, the user is prompted to enter their names, and the program updates the high score for each player by reading and writing data to the 'data.json' file. The program also creates a leaderboard by displaying the top 5 players and their scores on the screen.\n",
    "\n"
   ]
  },
  {
   "cell_type": "code",
   "execution_count": null,
   "metadata": {},
   "outputs": [],
   "source": [
    "# Import required library\n",
    "import turtle\n",
    "import json\n",
    "\n",
    "# Define the function to display leaderboard\n",
    "def display_leaderboard(leaderboard):\n",
    "    \n",
    "    # Load the data from the file\n",
    "    with open('data.json', 'r') as f:\n",
    "        data = json.load(f)\n",
    "    \n",
    "    # Sort the data based on high score\n",
    "    sorted_data = sorted(data.items(), key=lambda x: x[1]['high_score'], reverse=True)\n",
    "\n",
    "    # Clear the leaderboard\n",
    "    leaderboard.clear()\n",
    "    leaderboard.write(\"Leaderboard\", align=\"center\", font=(\"Courier\", 18, \"normal\"))\n",
    "    leaderboard.goto(0, -260)\n",
    "    leaderboard.write(\"--------------------\", align=\"center\", font=(\"Courier\", 14, \"normal\"))\n",
    "    for i, (name, score) in enumerate(sorted_data[:5]):\n",
    "        leaderboard.goto(0, -300 + i * 30)\n",
    "        leaderboard.write(f\"{i+1}. {name}: {score['high_score']}\", align=\"center\", font=(\"Courier\", 14, \"normal\"))\n",
    "# Load or create the data file\n",
    "try:\n",
    "    with open('data.json', 'r') as f:\n",
    "        data = json.load(f)\n",
    "except FileNotFoundError:\n",
    "    data = {}\n",
    "\n",
    "# Update the score for the player\n",
    "player_name = input('Enter your name: ')\n",
    "if player_name in data:\n",
    "    score = data[player_name]['high_score']\n",
    "else:\n",
    "    score = 0\n",
    "data[player_name] = {'high_score': score}\n",
    "    \n",
    "# Initialize score variable to 0\n",
    "player_score = input(\"Enter your score: \")\n",
    "\n",
    "# Convert player score to an integer and assign it to the score variable\n",
    "score = max(score, int(player_score))\n",
    "\n",
    "# Update the high score for the player in the data file\n",
    "if score > data[player_name]['high_score']:\n",
    "    data[player_name]['high_score'] = score\n",
    "\n",
    "# Print the score\n",
    "print(\"Your score is:\", score)\n",
    "\n",
    "# Save the updated data\n",
    "with open('data.json', 'w') as f:\n",
    "    json.dump(data, f)\n",
    "\n",
    "# Display the high score for the player\n",
    "print(f'Your highest score is {data[player_name][\"high_score\"]}')\n",
    "\n",
    "\n",
    "# Define the function to display leaderboard\n",
    "def display_leaderboard():\n",
    "    # Load the data from the file\n",
    "    with open('data.json', 'r') as f:\n",
    "        data = json.load(f)\n",
    "    \n",
    "    # Sort the data based on high score\n",
    "    sorted_data = sorted(data.items(), key=lambda x: x[1]['high_score'], reverse=True)\n",
    "\n",
    "    # Display the top 5 players and their scores\n",
    "    print(\"Leaderboard\")\n",
    "    print(\"-----------\")\n",
    "    for i, (name, score) in enumerate(sorted_data[:5]):\n",
    "        print(f\"{i+1}. {name}: {score['high_score']}\")\n",
    "    print(\"\")\n",
    "\n",
    "# Users enter their names\n",
    "\n",
    "left_player_name = turtle.textinput(\"Player 1\", \"Enter your name:\")\n",
    "right_player_name = turtle.textinput(\"Player 2\", \"Enter your name:\")\n",
    "\n",
    "# Update the score for the player\n",
    "for player_name in [left_player_name, right_player_name]:\n",
    "    if player_name in data:\n",
    "        score = data[player_name]['high_score']\n",
    "    else:\n",
    "        score = 0\n",
    "    data[player_name] = {'high_score': score}\n",
    "\n",
    "# Save the updated data\n",
    "with open('data.json', 'w') as f:\n",
    "    json.dump(data, f)\n",
    "\n",
    "\n",
    "# Create screen\n",
    "sc = turtle.Screen()\n",
    "sc.title(\"Pong game\")\n",
    "sc.bgcolor(\"pink\")\n",
    "sc.setup(width=1000, height=600)\n",
    "\n",
    "\n",
    "# Left paddle\n",
    "left_pad = turtle.Turtle()\n",
    "left_pad.speed(0)\n",
    "left_pad.shape(\"square\")\n",
    "left_pad.color(\"red\")\n",
    "left_pad.shapesize(stretch_wid=6, stretch_len=2)\n",
    "left_pad.penup()\n",
    "left_pad.goto(-400, 0)\n",
    "\n",
    "\n",
    "# Right paddle\n",
    "right_pad = turtle.Turtle()\n",
    "right_pad.speed(0)\n",
    "right_pad.shape(\"square\")\n",
    "right_pad.color(\"red\")\n",
    "right_pad.shapesize(stretch_wid=6, stretch_len=2)\n",
    "right_pad.penup()\n",
    "right_pad.goto(400, 0)\n",
    "\n",
    "# Ball of circle shape\n",
    "hit_ball = turtle.Turtle()\n",
    "hit_ball.speed(40)\n",
    "hit_ball.shape(\"circle\")\n",
    "hit_ball.color(\"hot pink\")\n",
    "hit_ball.penup()\n",
    "hit_ball.goto(0, 0)\n",
    "hit_ball.dx = 5\n",
    "hit_ball.dy = -5\n",
    "\n",
    "\n",
    "# Initialize the score\n",
    "left_player = 0\n",
    "right_player = 0\n",
    "\n",
    "\n",
    "# Displays the score\n",
    "sketch = turtle.Turtle()\n",
    "sketch.speed(0)\n",
    "sketch.color(\"blue\")\n",
    "sketch.penup()\n",
    "sketch.hideturtle()\n",
    "sketch.goto(0, 260)\n",
    "sketch.write(\"{} : {}    {} : {}\".format(left_player_name, left_player, right_player_name, right_player),\n",
    "    align=\"center\", font=(\"Courier\", 24, \"normal\"))\n",
    "\n",
    "# Leaderboard\n",
    "leaderboard = turtle.Turtle()\n",
    "leaderboard.speed(0)\n",
    "leaderboard.color(\"blue\")\n",
    "leaderboard.penup()\n",
    "leaderboard.hideturtle()\n",
    "leaderboard.goto(0, -260)\n",
    "leaderboard.write(\"Leaderboard\", align=\"center\", font=(\"Courier\", 18, \"normal\"))\n",
    "\n",
    "# Create a list of tuples to store player names and scores\n",
    "players = [(left_player_name, left_player), (right_player_name, right_player)]\n",
    "\n",
    "# Sort the list in descending order based on scores\n",
    "players.sort(key=lambda x: x[1], reverse=True)\n",
    "\n",
    "# Display the top 5 players and their scores\n",
    "for i in range(min(5, len(players))):\n",
    "    leaderboard.goto(0, -300 + i * 30)\n",
    "    leaderboard.write(f\"{i+1}. {players[i][0]}: {players[i][1]}\", align=\"center\", font=(\"Courier\", 14, \"normal\"))\n",
    "\n",
    "\n",
    "\n",
    "# Functions to move paddle vertically\n",
    "def paddleaup():\n",
    "\ty = left_pad.ycor()\n",
    "\ty += 20\n",
    "\tleft_pad.sety(y)\n",
    "\n",
    "\n",
    "def paddleadown():\n",
    "\ty = left_pad.ycor()\n",
    "\ty -= 20\n",
    "\tleft_pad.sety(y)\n",
    "\n",
    "\n",
    "def paddlebup():\n",
    "\ty = right_pad.ycor()\n",
    "\ty += 20\n",
    "\tright_pad.sety(y)\n",
    "\n",
    "\n",
    "def paddlebdown():\n",
    "\ty = right_pad.ycor()\n",
    "\ty -= 20\n",
    "\tright_pad.sety(y)\n",
    "\n",
    "\n",
    "# Keyboard bindings\n",
    "sc.listen()\n",
    "sc.onkeypress(paddleaup, \"e\")\n",
    "sc.onkeypress(paddleadown, \"x\")\n",
    "sc.onkeypress(paddlebup, \"Up\")\n",
    "sc.onkeypress(paddlebdown, \"Down\")\n",
    "\n",
    "# Function to clear the screen\n",
    "def sketch_clear():\n",
    "    sketch.clear()\n",
    "\n",
    "while True:\n",
    "\tsc.update()\n",
    "\n",
    "\thit_ball.setx(hit_ball.xcor()+hit_ball.dx)\n",
    "\thit_ball.sety(hit_ball.ycor()+hit_ball.dy)\n",
    " \n",
    " \n",
    "\n",
    "\t# Checking borders\n",
    "\tif hit_ball.ycor() > 280:\n",
    "\t\thit_ball.sety(280)\n",
    "\t\thit_ball.dy *= -1\n",
    "\n",
    "\tif hit_ball.ycor() < -280:\n",
    "\t\thit_ball.sety(-280)\n",
    "\t\thit_ball.dy *= -1\n",
    "\n",
    "\tif hit_ball.xcor() > 500:\n",
    "\t\thit_ball.goto(0, 0)\n",
    "\t\thit_ball.dy *= -1\n",
    "\t\tleft_player += 1\n",
    "\t\tsketch_clear()\n",
    "\t\tsketch.write(\"{} : {}    {} : {}\".format(left_player_name, left_player, right_player_name, right_player),\n",
    "    align=\"center\", font=(\"Courier\", 24, \"normal\"))\n",
    "\n",
    "\n",
    "\tif hit_ball.xcor() < -500:\n",
    "\t\thit_ball.goto(0, 0)\n",
    "\t\thit_ball.dy *= -1\n",
    "\t\tright_player += 1\n",
    "\t\tsketch_clear()\n",
    "\t\tsketch.write(\"{} : {}    {} : {}\".format(left_player_name, left_player, right_player_name, right_player),\n",
    "    align=\"center\", font=(\"Courier\", 24, \"normal\"))\n",
    "\n",
    "\t# Paddle ball collision\n",
    "\tif (hit_ball.xcor() > 360 and hit_ball.xcor() < 370) and (hit_ball.ycor() < right_pad.ycor()+40 and hit_ball.ycor() > right_pad.ycor()-40):\n",
    "\t\thit_ball.setx(360)\n",
    "\t\thit_ball.dx*=-1\n",
    "\t\t\n",
    "\tif (hit_ball.xcor()<-360 and hit_ball.xcor()>-370) and (hit_ball.ycor()<left_pad.ycor()+40 and hit_ball.ycor()>left_pad.ycor()-40):\n",
    "\t\thit_ball.setx(-360)\n",
    "\t\thit_ball.dx*=-1\n",
    "\n"
   ]
  }
 ],
 "metadata": {
  "kernelspec": {
   "display_name": "base",
   "language": "python",
   "name": "python3"
  },
  "language_info": {
   "codemirror_mode": {
    "name": "ipython",
    "version": 3
   },
   "file_extension": ".py",
   "mimetype": "text/x-python",
   "name": "python",
   "nbconvert_exporter": "python",
   "pygments_lexer": "ipython3",
   "version": "3.9.13"
  },
  "orig_nbformat": 4,
  "vscode": {
   "interpreter": {
    "hash": "651e91bc5e7f833b76c0423da7c79ea4022866e33ff21a54f09f37912e770c86"
   }
  }
 },
 "nbformat": 4,
 "nbformat_minor": 2
}
