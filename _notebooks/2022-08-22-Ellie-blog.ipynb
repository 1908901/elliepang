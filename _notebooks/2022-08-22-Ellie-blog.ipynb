{
 "cells": [
  {
   "cell_type": "code",
   "execution_count": null,
   "metadata": {},
   "outputs": [],
   "source": [
    "print(\"hello\")"
   ]
  },
  {
   "cell_type": "markdown",
   "metadata": {},
   "source": [
    "# Ellie's Blog\n",
    "I am a sophomore and I play volleyball\n",
    "I have played volleyball for 6 years\n",
    "Libero is the position I play\n",
    "I play for a club and the high school team."
   ]
  }
 ],
 "metadata": {
  "language_info": {
   "name": "python"
  },
  "orig_nbformat": 4
 },
 "nbformat": 4,
 "nbformat_minor": 2
}
