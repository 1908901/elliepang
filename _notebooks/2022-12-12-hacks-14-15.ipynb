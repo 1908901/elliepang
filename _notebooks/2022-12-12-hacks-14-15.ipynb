{
 "cells": [
  {
   "attachments": {},
   "cell_type": "markdown",
   "metadata": {},
   "source": [
    "# Unit 3.14-3.15 Hacks "
   ]
  },
  {
   "attachments": {},
   "cell_type": "markdown",
   "metadata": {},
   "source": [
    "# Reflection \n",
    "\n",
    "After todays lesson on sections 14 through 15, I have a better understanding of Libraries and documentations and how they making coding a more efficient process. "
   ]
  },
  {
   "attachments": {},
   "cell_type": "markdown",
   "metadata": {},
   "source": [
    "# Multiple choice \n",
    "\n",
    "1. B because the random function chooses between the range of numbers and it also includes the numbers. \n",
    "2. A because x is the number it starts with and y is the number that makes it stops, z is the step because it is the way they are formatted. \n",
    "3. A because random.random, random,shuffle, and random.randit exist and are functions in the library. Random.random does not exist.\n",
    "\n",
    "1. Using libraries are more efficient for programing. Avoids the need to repeat code and instead looks through the code of the library. An example, the randit function is where start is the minimn value and strops is the max value so I do not have to make a new peice of code to use that function\n",
    "2. "
   ]
  }
 ],
 "metadata": {
  "kernelspec": {
   "display_name": "Python 3",
   "language": "python",
   "name": "python3"
  },
  "language_info": {
   "name": "python",
   "version": "3.8.10 (default, Jun 22 2022, 20:18:18) \n[GCC 9.4.0]"
  },
  "orig_nbformat": 4,
  "vscode": {
   "interpreter": {
    "hash": "916dbcbb3f70747c44a77c7bcd40155683ae19c65e1c03b4aa3499c5328201f1"
   }
  }
 },
 "nbformat": 4,
 "nbformat_minor": 2
}
