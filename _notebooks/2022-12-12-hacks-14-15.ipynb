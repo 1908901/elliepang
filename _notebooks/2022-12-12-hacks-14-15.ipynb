{
 "cells": [
  {
   "attachments": {},
   "cell_type": "markdown",
   "metadata": {},
   "source": [
    "# Unit 3.14-3.15 Hacks "
   ]
  },
  {
   "attachments": {},
   "cell_type": "markdown",
   "metadata": {},
   "source": [
    "# Reflection \n",
    "\n",
    "After todays lesson on sections 14 through 15, I have a better understanding of libraries and documentations and how they make coding a more efficient process. I learned that libraries are efficient because they are pre-written and can be referenced throughout the code. Documentations are efficient as they explain how the code works. I also learned more about API's and that they facilitate communication amongst multiple computers. Finally, I learned about random values and how they can be used in determining possible results in an expression. "
   ]
  },
  {
   "attachments": {},
   "cell_type": "markdown",
   "metadata": {},
   "source": [
    "## Reflection Practice "
   ]
  },
  {
   "attachments": {},
   "cell_type": "markdown",
   "metadata": {},
   "source": [
    "1. Reflection Practicing random.shuffle "
   ]
  },
  {
   "cell_type": "code",
   "execution_count": 9,
   "metadata": {},
   "outputs": [
    {
     "name": "stdout",
     "output_type": "stream",
     "text": [
      "Original list: [19, 11, 21, 28, 35, 42, 49, 56, 63, 70]\n",
      "List after first shuffle: [19, 42, 11, 56, 70, 35, 49, 63, 21, 28]\n",
      "List after second shuffle: [28, 63, 11, 35, 49, 42, 70, 56, 19, 21]\n"
     ]
    }
   ],
   "source": [
    "import random\n",
    "\n",
    "number_list = [19, 11, 21, 28, 35, 42, 49, 56, 63, 70]\n",
    "print(\"Original list:\", number_list)\n",
    "\n",
    "random.shuffle(number_list)\n",
    "print(\"List after first shuffle:\", number_list)\n",
    "\n",
    "random.shuffle(number_list)\n",
    "print(\"List after second shuffle:\", number_list)"
   ]
  },
  {
   "attachments": {},
   "cell_type": "markdown",
   "metadata": {},
   "source": [
    "2. Reflection Practicing random.choice"
   ]
  },
  {
   "cell_type": "code",
   "execution_count": 12,
   "metadata": {},
   "outputs": [
    {
     "name": "stdout",
     "output_type": "stream",
     "text": [
      "444\n"
     ]
    }
   ],
   "source": [
    "import random\n",
    "\n",
    "number_list = [111, 222, 333, 444, 555]\n",
    "\n",
    "print(random.choice(number_list))\n"
   ]
  },
  {
   "attachments": {},
   "cell_type": "markdown",
   "metadata": {},
   "source": [
    "3. Reflection Practice Documentation"
   ]
  },
  {
   "cell_type": "code",
   "execution_count": 16,
   "metadata": {},
   "outputs": [
    {
     "name": "stdout",
     "output_type": "stream",
     "text": [
      "The number average is 33.0\n"
     ]
    }
   ],
   "source": [
    "def numAverage(value):\n",
    "    sumNums = 0\n",
    "    for t in value:\n",
    "        sumNums = sumNums + t\n",
    "\n",
    "    average = sumNums / len(value)\n",
    "    return average\n",
    "\n",
    "print(\"The number average is\", numAverage([1, 2, 3, 4, 5, 6, 61, 84, 81, 83]))"
   ]
  },
  {
   "attachments": {},
   "cell_type": "markdown",
   "metadata": {},
   "source": [
    "# Multiple choice \n",
    "\n",
    "1. What does the random(a,b) function generate?\n",
    "\n",
    "A. A random integer from a to be exclusive\n",
    "\n",
    "B. A random integer from a to b inclusive.\n",
    "\n",
    "C. A random word from variable a to variable b exclusive.\n",
    "\n",
    "D. A random word from variable a to variable b inclusive.\n",
    "\n",
    "ANSWER: B because the random function mean a random integer from the parameters set will be chosen. a,b are the parameters, a random integer from a to b will be given, including a and b.\n",
    "\n",
    "2. What is x, y, and z in random.randrange(x, y, z)?\n",
    "\n",
    "A. x = start, y = stop, z = step\n",
    "\n",
    "B. x = start, y = step, z = stop\n",
    "\n",
    "C. x = stop, y = start, z = step\n",
    "\n",
    "D. x = step, y = start, z = stop\n",
    "\n",
    "ANSWER: A  because the randrange function has the parameters so that the the start, x is the minimum value. Y is the stop  (maximum), and z is the step/increment the values can be.\n",
    "\n",
    "3. Which of the following is NOT part of the random library?\n",
    "A. random.item\n",
    "\n",
    "B. random.random\n",
    "\n",
    "C. random.shuffle\n",
    "\n",
    "D. random.randint\n",
    "\n",
    "ANSWER: A because the item() function is used in dictionaries to find an item in the dictionary. Since it does not have any parameters, is not a part of the random library. Example of a function without the import random funcion."
   ]
  },
  {
   "cell_type": "code",
   "execution_count": 17,
   "metadata": {},
   "outputs": [
    {
     "name": "stdout",
     "output_type": "stream",
     "text": [
      "dict_items([('day', 'Nike'), ('clothing', 'shirt'), ('year', 2018)])\n"
     ]
    }
   ],
   "source": [
    "random = {\n",
    "  \"day\": \"Nike\",\n",
    "  \"clothing\": \"shirt\",\n",
    "  \"year\": 2012\n",
    "}\n",
    "\n",
    "x = random.items()\n",
    "\n",
    "random[\"year\"] = 2018\n",
    "\n",
    "print(x)"
   ]
  },
  {
   "attachments": {},
   "cell_type": "markdown",
   "metadata": {},
   "source": [
    "# Short Answer Questions \n",
    "\n",
    "1. What is the advantage of using libraries?\n",
    "\n",
    "Libraries are already pre-written and can be referenced in your code. Instead of taking the time to rewrite the same code multiple times, libraries are reusable functions that can be used without redefining them. Overall, libraries are efficient, easier for coding complex functions, and reducing coding errors. "
   ]
  },
  {
   "attachments": {},
   "cell_type": "markdown",
   "metadata": {},
   "source": [
    "2. Write a thorough documentation of the following code."
   ]
  },
  {
   "cell_type": "code",
   "execution_count": 21,
   "metadata": {},
   "outputs": [
    {
     "name": "stdout",
     "output_type": "stream",
     "text": [
      "ellie is going to buy the meal today!\n"
     ]
    }
   ],
   "source": [
    "import random \n",
    "\n",
    "names_string = input(\"Give me everybody's names, seperated by a comma.\")\n",
    "names = names_string.split(\",\")\n",
    "\n",
    "num_items = len(names)\n",
    "\n",
    "random_choice = random.randint(0, num_items - 1)\n",
    "\n",
    "person_who_will_pay = names[random_choice]\n",
    "\n",
    "print(f\"{person_who_will_pay} is going to buy the meal today!\")"
   ]
  },
  {
   "attachments": {},
   "cell_type": "markdown",
   "metadata": {},
   "source": [
    "Documentation:\n",
    " \n",
    "Using the library random, I set the variable names_string equal to the the names the user provides/inputs. \n",
    "\n",
    "The split function will separate the names with a comma.\n",
    "\n",
    "num_items will give each name given a number and using the random function randint, it randomly select a number that corresponds to a name. \n",
    "\n",
    "The procedure returns the name and the sentence."
   ]
  },
  {
   "attachments": {},
   "cell_type": "markdown",
   "metadata": {},
   "source": [
    "# 4 Coding Challenge \n",
    "1. Create a program to pick five random names from a list of at least 15 names"
   ]
  },
  {
   "cell_type": "code",
   "execution_count": 24,
   "metadata": {},
   "outputs": [
    {
     "name": "stdout",
     "output_type": "stream",
     "text": [
      " These are your 5 random names: ['Yuna', 'Hailey', 'Ella', 'Hannah', 'Katie']!\n"
     ]
    }
   ],
   "source": [
    "import random \n",
    "\n",
    "namesList = [\"Ellie\", \"Katie\", \"Haeryn\", \"Dylan\", \"Ava\", \"Olivia\", \"Sreeja\", \"Yuna\", \"Hannah\", \"Taylor\", \"Madison\", \"Lizzy\", \"Evan\", \"Hailey\", \"Ella\"]\n",
    "\n",
    "sample_namesList = random.sample(namesList, k=5) \n",
    "print(f\" These are your 5 random names: {sample_namesList}!\")"
   ]
  },
  {
   "attachments": {},
   "cell_type": "markdown",
   "metadata": {},
   "source": [
    "EXPLANATION: First I created a list that had all the names I wanted to use, I chose to use the names of my friends. Then I set a variable equal to a function that would pick 5 different random names. I used the random library function choices and set k equal to 5 which would choose 5 options from the list. After printing the list the random.sample function allows me to get 5 names."
   ]
  },
  {
   "attachments": {},
   "cell_type": "markdown",
   "metadata": {},
   "source": [
    "2. Create a program to simulate a dice game where each player rolls two fair dice (6 sides); the player with the greater sum wins"
   ]
  },
  {
   "cell_type": "code",
   "execution_count": 32,
   "metadata": {},
   "outputs": [
    {
     "name": "stdout",
     "output_type": "stream",
     "text": [
      "Player 1 rolled a 4 and 1 for a sum of: 5\n",
      "Player 2 rolled a 5 and 1 for a sum of: 6\n",
      "Congratulations! Player 2 wins!\n"
     ]
    }
   ],
   "source": [
    "import random \n",
    "\n",
    "p1dice1 = random.randrange(1,6)\n",
    "p1dice2 = random.randrange(1,6)\n",
    "print(\"Player 1 rolled a\", p1dice1, \"and\", p1dice2, \"for a sum of:\", p1dice1+p1dice2)\n",
    "\n",
    "p2dice1 = random.randrange(1,6)\n",
    "p2dice2 = random.randrange(1,6)\n",
    "print(\"Player 2 rolled a\", p2dice1, \"and\", p2dice2, \"for a sum of:\", p2dice1+p2dice2)\n",
    "\n",
    "p1sum = p1dice1 + p1dice2\n",
    "p2sum = p2dice1 + p2dice2\n",
    "\n",
    "if p1sum > p2sum:\n",
    "    print(\"Player 1 wins!\")\n",
    "elif p1sum == p2sum:\n",
    "    print(\"Roll again! You both rolled the same sum.\")\n",
    "else: \n",
    "    print(\"Congratulations! Player 2 wins!\")"
   ]
  },
  {
   "attachments": {},
   "cell_type": "markdown",
   "metadata": {},
   "source": [
    "Explanation: Using the random library, I set variables equal to a random number 1-6, which represents rolling the dice. I named the variables based on who rolled and what number they rolled it. Then I added the numbers together, whichever player had the higher sum wins."
   ]
  },
  {
   "attachments": {},
   "cell_type": "markdown",
   "metadata": {},
   "source": [
    "# Extra Credit Attempt"
   ]
  },
  {
   "cell_type": "code",
   "execution_count": 39,
   "metadata": {},
   "outputs": [
    {
     "name": "stdout",
     "output_type": "stream",
     "text": [
      "x 0 x x E\n",
      "x S 0 x x\n",
      "0 0 0 0 0\n",
      "x x 0 0 0\n",
      "x x x 0 x\n"
     ]
    }
   ],
   "source": [
    "import random\n",
    "\n",
    "\n",
    "width = 5\n",
    "height = 5\n",
    "obstacles = 15\n",
    "\n",
    "\n",
    "maze = [[0 for i in range(width)] for j in range(height)]\n",
    "\n",
    "\n",
    "for i in range(obstacles):\n",
    "    x = random.randint(0, width - 1)\n",
    "    y = random.randint(0, height - 1)\n",
    "    maze[x][y] = 'x' \n",
    "\n",
    "\n",
    "def startEnd():\n",
    "    a = random.randint(0, width - 1)\n",
    "    b = random.randint(0, height - 1)\n",
    "    maze[a][b] = 'S' \n",
    "    c = random.randint(0, width - 1)\n",
    "    d = random.randint(0, height - 1)\n",
    "    maze[c][d] = 'E' \n",
    "\n",
    "startEnd()\n",
    "\n",
    "for row in maze:\n",
    "    print(' '.join(str(cell) for cell in row))"
   ]
  }
 ],
 "metadata": {
  "kernelspec": {
   "display_name": "Python 3",
   "language": "python",
   "name": "python3"
  },
  "language_info": {
   "codemirror_mode": {
    "name": "ipython",
    "version": 3
   },
   "file_extension": ".py",
   "mimetype": "text/x-python",
   "name": "python",
   "nbconvert_exporter": "python",
   "pygments_lexer": "ipython3",
   "version": "3.8.10"
  },
  "orig_nbformat": 4,
  "vscode": {
   "interpreter": {
    "hash": "916dbcbb3f70747c44a77c7bcd40155683ae19c65e1c03b4aa3499c5328201f1"
   }
  }
 },
 "nbformat": 4,
 "nbformat_minor": 2
}
