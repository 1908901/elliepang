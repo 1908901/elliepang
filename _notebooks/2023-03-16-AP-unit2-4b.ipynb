{
 "cells": [
  {
   "attachments": {},
   "cell_type": "markdown",
   "metadata": {},
   "source": [
    "#  Unit 2.4b Using Programs with Data, SQL\n",
    "> Using Programs with Data is focused on SQL and database actions.  Part B focuses on learning SQL commands, connections, and curses using an Imperative programming style,\n",
    "- toc: true\n",
    "- image: /images/python.png\n",
    "- categories: []\n",
    "- type: ap\n",
    "- week: 26"
   ]
  },
  {
   "attachments": {},
   "cell_type": "markdown",
   "metadata": {},
   "source": [
    "# Database Programming is Program with Data\n",
    "> Each Tri 2 Final Project should be an example of a Program with Data. \n",
    "\n",
    ">  Prepare to use SQLite in common Imperative Technique\n",
    "- Explore [SQLite Connect object](https://www.tutorialspoint.com/python_data_access/python_sqlite_establishing_connection.htm) to establish database connection\n",
    "- Explore [SQLite Cursor Object](https://www.tutorialspoint.com/python_data_access/python_sqlite_cursor_object.htm) to fetch data from a table within a database\n"
   ]
  },
  {
   "attachments": {},
   "cell_type": "markdown",
   "metadata": {},
   "source": [
    "## Schema of Users table in Sqlite.db\n",
    "> Uses PRAGMA statement to read schema.\n",
    "\n",
    "Describe Schema, here is resource [Resource](https://www.sqlite.org/index.html)\n",
    "- What is a database schema?\n",
    "\n",
    "defines how data is organized within a database. It specifies how the data is structured and how users and applications can access and manipulate it. Define the database's structure, including the types of data that can be stored, the connections between tables, and the guidelines for adding, updating, and deleting data.\n",
    "\n",
    "- What is the purpose of identity Column in SQL database?\n",
    "\n",
    "a distinct value for each row that is added to the table. An identity column's function is to assign each table row a special identification number, which can be helpful for a number of reasons.\n",
    "\n",
    "- What is the purpose of a primary key in SQL database?\n",
    "\n",
    "A primary key is a column or group of columns that allows each row in a table to be uniquely identified. A main key's function is to offer a trustworthy and effective means to locate and access particular rows in a table.\n",
    "\n",
    "- What are the Data Types in SQL table?\n",
    "\n",
    "There are four basic data types in SQL table: boolean, integer, string, and blog.\n",
    "\n",
    "\n",
    "\n"
   ]
  },
  {
   "cell_type": "code",
   "execution_count": 159,
   "metadata": {},
   "outputs": [
    {
     "name": "stdout",
     "output_type": "stream",
     "text": [
      "(0, 'id', 'INTEGER', 1, None, 1)\n",
      "(1, '_image', 'VARCHAR(255)', 1, None, 0)\n",
      "(2, '_link', 'VARCHAR(255)', 1, None, 0)\n",
      "(3, '_name', 'VARCHAR(255)', 1, None, 0)\n",
      "(4, '_uid', 'VARCHAR(255)', 1, None, 0)\n",
      "(5, '_breed', 'VARCHAR(255)', 1, None, 0)\n",
      "(6, '_sex', 'VARCHAR(255)', 1, None, 0)\n",
      "(7, '_dob', 'DATE', 0, None, 0)\n",
      "(8, '_price', 'VARCHAR(255)', 1, None, 0)\n"
     ]
    }
   ],
   "source": [
    "import sqlite3\n",
    "\n",
    "database = 'instance/sqlite.db' # this is location of database\n",
    "\n",
    "def schema():\n",
    "    \n",
    "    # Connect to the database file\n",
    "    conn = sqlite3.connect(database)\n",
    "\n",
    "    # Create a cursor object to execute SQL queries\n",
    "    cursor = conn.cursor()\n",
    "    \n",
    "    # Fetch results of Schema\n",
    "    results = cursor.execute(\"PRAGMA table_info('dogs')\").fetchall()\n",
    "\n",
    "    # Print the results\n",
    "    for row in results:\n",
    "        print(row)\n",
    "\n",
    "    # Close the database connection\n",
    "    conn.close()\n",
    "    \n",
    "schema()\n"
   ]
  },
  {
   "attachments": {},
   "cell_type": "markdown",
   "metadata": {},
   "source": [
    "- Connects to a SQLite database file located at instance/sqlite.db.\n",
    "- Creates a cursor object to execute SQL queries.\n",
    "- Executes an SQL query to fetch information about the \"dogs\" table, using the PRAGMA table_info() statement.\n",
    "- Prints the results of the query, which will be a list of tuples containing information about each column in the \"dogs\" table.\n",
    "- Closes the database connection.\n",
    "- Finally, the code calls the schema() function, which executes the above tasks and prints the column information for the \"dogs\" table.\n",
    "\n",
    "\n",
    "\n",
    "\n"
   ]
  },
  {
   "attachments": {},
   "cell_type": "markdown",
   "metadata": {},
   "source": [
    "## Reading Users table in Sqlite.db\n",
    "> Uses SQL SELECT statement to read data\n",
    "\n",
    "- What is a connection object?  After you google it, what do you think it does?\n",
    "\n",
    "a connection between an application and a database management system represented as an object. commands to the database and receives the responses.\n",
    "\n",
    "- Same for cursor object?\n",
    "\n",
    "An application can navigate the records or rows returned by a SQL query using a cursor object. The cursor offers a mechanism to iteratively read each row of a query's results and execute operations on them as they are accessed.\n",
    "\n",
    "- Look at conn object and cursor object in VSCode debugger.  What attributes are in the object?\n",
    "\n",
    "Executes a SQL statement using the syntax sql[, arguments]. The values to be associated to placeholders in the SQL statement are contained in a sequence or mapping that is part of the optional parameters argument. Executes a SQL query several times with various parameter sets using the executemany(sql, seq of parameters) function. A series of sequences or mappings holding the values to be associated to placeholders in the SQL query make up the seq of parameters argument. A single sequence is returned by the fetchone() function, or None if there are no more rows to fetch from the query result set. If there are additional rows in the query result set, fetchmany([size=cursor.arraysize]) fetches them, producing a collection of sequences otherwise.\n",
    "\n",
    "- Is \"results\" an object?  How do you know?\n",
    "\n",
    "set equal to cursor.execute"
   ]
  },
  {
   "cell_type": "code",
   "execution_count": 160,
   "metadata": {},
   "outputs": [
    {
     "name": "stdout",
     "output_type": "stream",
     "text": [
      "(1, 'https://do31x39459kz9.cloudfront.net/storage/image/cc7c5dd6a09649e3bf5c6bca96b21daa-1670625496-1670625511-jpg/1024-0-', 'https://haeryny.github.io/teamteam/doginfo/', 'Joe', '81729', 'Labrador Retriever Blend', 'male', '2022-02-11', '200')\n",
      "(3, 'https://do31x39459kz9.cloudfront.net/storage/image/9f57a9ccb04d489c8e0faeb7a6aaecc1-1671755085-1671755107-jpg/1024-0-', 'https://haeryny.github.io/teamteam/doginfo/', 'Harry', '80032', 'Hound-Terrier Blend', 'male', '2020-04-29', '160')\n",
      "(4, 'https://do31x39459kz9.cloudfront.net/storage/image/7a0fd8c5107f469a8b6e3ec6db1bc48a-1671827148-1671827194-jpg/1024-0-', 'https://haeryny.github.io/teamteam/doginfo/', 'Honey', '90276', 'Retriever Blend', 'female', '2021-11-01', '200')\n",
      "(5, 'https://do31x39459kz9.cloudfront.net/storage/image/3b17d9a97b4e41ff984e54467d122820-1670895829-1670895970-jpg/1024-0-', 'https://haeryny.github.io/teamteam/doginfo/', 'George', '90277', 'Retriever Blend', 'male', '2021-11-01', '200')\n",
      "(6, 'https://do31x39459kz9.cloudfront.net/storage/image/574b155c13f5453093faa9a9bbe6cc09-1672428396-1672428453-jpg/1024-0-', 'https://fluffyfriendfinder.nighthawkcodingsociety.com/6', 'Julie', '91236', 'Black Mouth Cur Blend', 'female', '2022-04-09', '209')\n",
      "(7, '', '', '', '', '', '', '', '')\n"
     ]
    }
   ],
   "source": [
    "import sqlite3\n",
    "\n",
    "def read():\n",
    "    # Connect to the database file\n",
    "    conn = sqlite3.connect(database)\n",
    "\n",
    "    # Create a cursor object to execute SQL queries\n",
    "    cursor = conn.cursor()   # open connection object: contains methods and attributes you need to alter data \n",
    "    \n",
    "    # Execute a SELECT statement to retrieve data from a table\n",
    "    results = cursor.execute('SELECT * FROM dogs').fetchall()  #results is an object \n",
    "\n",
    "    # Print the results\n",
    "    if len(results) == 0:\n",
    "        print(\"Table is empty\")\n",
    "    else:\n",
    "        for row in results:\n",
    "            print(row)\n",
    "\n",
    "    # Close the cursor and connection objects\n",
    "    cursor.close()\n",
    "    conn.close()\n",
    "    \n",
    "read()"
   ]
  },
  {
   "attachments": {},
   "cell_type": "markdown",
   "metadata": {},
   "source": [
    "## Create a new User in table in Sqlite.db\n",
    "> Uses SQL INSERT to add row\n",
    "-  Compore create() in both SQL lessons.  What is better or worse in the two implementations?\n",
    "-  Explain purpose of SQL INSERT.   Is this the same as User __init__?"
   ]
  },
  {
   "cell_type": "code",
   "execution_count": 161,
   "metadata": {},
   "outputs": [
    {
     "ename": "KeyboardInterrupt",
     "evalue": "Interrupted by user",
     "output_type": "error",
     "traceback": [
      "\u001b[0;31m---------------------------------------------------------------------------\u001b[0m",
      "\u001b[0;31mKeyboardInterrupt\u001b[0m                         Traceback (most recent call last)",
      "\u001b[0;32m/var/folders/ry/vf9wstbj0bs5fggn2g7cq48c0000gn/T/ipykernel_20729/2842932408.py\u001b[0m in \u001b[0;36m<module>\u001b[0;34m\u001b[0m\n\u001b[1;32m     33\u001b[0m     \u001b[0mconn\u001b[0m\u001b[0;34m.\u001b[0m\u001b[0mclose\u001b[0m\u001b[0;34m(\u001b[0m\u001b[0;34m)\u001b[0m\u001b[0;34m\u001b[0m\u001b[0;34m\u001b[0m\u001b[0m\n\u001b[1;32m     34\u001b[0m \u001b[0;34m\u001b[0m\u001b[0m\n\u001b[0;32m---> 35\u001b[0;31m \u001b[0mcreate\u001b[0m\u001b[0;34m(\u001b[0m\u001b[0;34m)\u001b[0m\u001b[0;34m\u001b[0m\u001b[0;34m\u001b[0m\u001b[0m\n\u001b[0m",
      "\u001b[0;32m/var/folders/ry/vf9wstbj0bs5fggn2g7cq48c0000gn/T/ipykernel_20729/2842932408.py\u001b[0m in \u001b[0;36mcreate\u001b[0;34m()\u001b[0m\n\u001b[1;32m      2\u001b[0m \u001b[0;34m\u001b[0m\u001b[0m\n\u001b[1;32m      3\u001b[0m \u001b[0;32mdef\u001b[0m \u001b[0mcreate\u001b[0m\u001b[0;34m(\u001b[0m\u001b[0;34m)\u001b[0m\u001b[0;34m:\u001b[0m\u001b[0;34m\u001b[0m\u001b[0;34m\u001b[0m\u001b[0m\n\u001b[0;32m----> 4\u001b[0;31m     \u001b[0mimage\u001b[0m \u001b[0;34m=\u001b[0m \u001b[0minput\u001b[0m\u001b[0;34m(\u001b[0m\u001b[0;34m\"Enter image link:\"\u001b[0m\u001b[0;34m)\u001b[0m\u001b[0;34m\u001b[0m\u001b[0;34m\u001b[0m\u001b[0m\n\u001b[0m\u001b[1;32m      5\u001b[0m     \u001b[0mlink\u001b[0m \u001b[0;34m=\u001b[0m \u001b[0minput\u001b[0m\u001b[0;34m(\u001b[0m\u001b[0;34m\"Enter link to dog info:\"\u001b[0m\u001b[0;34m)\u001b[0m\u001b[0;34m\u001b[0m\u001b[0;34m\u001b[0m\u001b[0m\n\u001b[1;32m      6\u001b[0m     \u001b[0mname\u001b[0m \u001b[0;34m=\u001b[0m \u001b[0minput\u001b[0m\u001b[0;34m(\u001b[0m\u001b[0;34m\"Enter dog name:\"\u001b[0m\u001b[0;34m)\u001b[0m\u001b[0;34m\u001b[0m\u001b[0;34m\u001b[0m\u001b[0m\n",
      "\u001b[0;32m~/opt/anaconda3/lib/python3.9/site-packages/ipykernel/kernelbase.py\u001b[0m in \u001b[0;36mraw_input\u001b[0;34m(self, prompt)\u001b[0m\n\u001b[1;32m   1175\u001b[0m                 \u001b[0;34m\"raw_input was called, but this frontend does not support input requests.\"\u001b[0m\u001b[0;34m\u001b[0m\u001b[0;34m\u001b[0m\u001b[0m\n\u001b[1;32m   1176\u001b[0m             )\n\u001b[0;32m-> 1177\u001b[0;31m         return self._input_request(\n\u001b[0m\u001b[1;32m   1178\u001b[0m             \u001b[0mstr\u001b[0m\u001b[0;34m(\u001b[0m\u001b[0mprompt\u001b[0m\u001b[0;34m)\u001b[0m\u001b[0;34m,\u001b[0m\u001b[0;34m\u001b[0m\u001b[0;34m\u001b[0m\u001b[0m\n\u001b[1;32m   1179\u001b[0m             \u001b[0mself\u001b[0m\u001b[0;34m.\u001b[0m\u001b[0m_parent_ident\u001b[0m\u001b[0;34m[\u001b[0m\u001b[0;34m\"shell\"\u001b[0m\u001b[0;34m]\u001b[0m\u001b[0;34m,\u001b[0m\u001b[0;34m\u001b[0m\u001b[0;34m\u001b[0m\u001b[0m\n",
      "\u001b[0;32m~/opt/anaconda3/lib/python3.9/site-packages/ipykernel/kernelbase.py\u001b[0m in \u001b[0;36m_input_request\u001b[0;34m(self, prompt, ident, parent, password)\u001b[0m\n\u001b[1;32m   1217\u001b[0m             \u001b[0;32mexcept\u001b[0m \u001b[0mKeyboardInterrupt\u001b[0m\u001b[0;34m:\u001b[0m\u001b[0;34m\u001b[0m\u001b[0;34m\u001b[0m\u001b[0m\n\u001b[1;32m   1218\u001b[0m                 \u001b[0;31m# re-raise KeyboardInterrupt, to truncate traceback\u001b[0m\u001b[0;34m\u001b[0m\u001b[0;34m\u001b[0m\u001b[0m\n\u001b[0;32m-> 1219\u001b[0;31m                 \u001b[0;32mraise\u001b[0m \u001b[0mKeyboardInterrupt\u001b[0m\u001b[0;34m(\u001b[0m\u001b[0;34m\"Interrupted by user\"\u001b[0m\u001b[0;34m)\u001b[0m \u001b[0;32mfrom\u001b[0m \u001b[0;32mNone\u001b[0m\u001b[0;34m\u001b[0m\u001b[0;34m\u001b[0m\u001b[0m\n\u001b[0m\u001b[1;32m   1220\u001b[0m             \u001b[0;32mexcept\u001b[0m \u001b[0mException\u001b[0m\u001b[0;34m:\u001b[0m\u001b[0;34m\u001b[0m\u001b[0;34m\u001b[0m\u001b[0m\n\u001b[1;32m   1221\u001b[0m                 \u001b[0mself\u001b[0m\u001b[0;34m.\u001b[0m\u001b[0mlog\u001b[0m\u001b[0;34m.\u001b[0m\u001b[0mwarning\u001b[0m\u001b[0;34m(\u001b[0m\u001b[0;34m\"Invalid Message:\"\u001b[0m\u001b[0;34m,\u001b[0m \u001b[0mexc_info\u001b[0m\u001b[0;34m=\u001b[0m\u001b[0;32mTrue\u001b[0m\u001b[0;34m)\u001b[0m\u001b[0;34m\u001b[0m\u001b[0;34m\u001b[0m\u001b[0m\n",
      "\u001b[0;31mKeyboardInterrupt\u001b[0m: Interrupted by user"
     ]
    }
   ],
   "source": [
    "import sqlite3\n",
    "\n",
    "def create():\n",
    "    image = input(\"Enter image link:\")\n",
    "    link = input(\"Enter link to dog info:\")\n",
    "    name = input(\"Enter dog name:\")\n",
    "    uid = input(\"Enter UID:\")\n",
    "    breed = input(\"Enter dog breed:\")\n",
    "    sex = input(\"Enter dog sex:\")\n",
    "    dob = input(\"Enter dog date of birth:\")\n",
    "    price = input(\"Enter dog price:\")\n",
    "    \n",
    "    # Connect to the database file\n",
    "    conn = sqlite3.connect(database)\n",
    "\n",
    "    # Create a cursor object to execute SQL commands\n",
    "    cursor = conn.cursor()\n",
    "\n",
    "    try:\n",
    "        # Execute an SQL command to insert data into a table\n",
    "        cursor.execute(\"INSERT INTO dogs (_image, _link, _name, _uid, _breed, _sex, _dob, _price) VALUES (?, ?, ?, ?, ?, ?, ?, ?)\", (image, link, name, uid, breed, sex, dob, price))\n",
    "        \n",
    "        # Commit the changes to the database\n",
    "        conn.commit()\n",
    "        print(f\"A new user record {uid} has been created\")\n",
    "                \n",
    "    except sqlite3.Error as error:\n",
    "        print(\"Error while executing the INSERT:\", error)\n",
    "\n",
    "\n",
    "    # Close the cursor and connection objects\n",
    "    cursor.close()\n",
    "    conn.close()\n",
    "    \n",
    "create()"
   ]
  },
  {
   "attachments": {},
   "cell_type": "markdown",
   "metadata": {},
   "source": [
    "## Updating a User in table in Sqlite.db\n",
    "> Uses SQL UPDATE to modify password\n",
    "- What does the hacked part do?\n",
    "\n",
    "The portion of the code that has been compromised checks to see if the user-entered new password is less than two characters in length. The message variable is set to \"hacked\" and the password variable is set to \"gothackednewpassword123\" if the length is less than 2. This implies that if someone tries to set a simple or brief password, a harder password will be automatically provided to them.\n",
    "\n",
    "- Explain try/except, when would except occur?\n",
    "\n",
    "A control flow statement for handling errors is try/except. The try block's function is run, and if an error is made, control is instantly passed to the except block. The program is able to carry on by handling the error in the unless block and catching it. Try/except is helpful when you anticipate a piece of code might result in an error but don't want the program to crash if it does. Instead, you should gracefully manage the error and carry on with the remainder of the application.\n",
    "\n",
    "- What code seems to be repeated in each of these examples to point, why is it repeated?\n",
    "\n",
    "To allow the code to continue executing even in the event of a user input error, try/except is repeated."
   ]
  },
  {
   "cell_type": "code",
   "execution_count": 162,
   "metadata": {},
   "outputs": [
    {
     "name": "stdout",
     "output_type": "stream",
     "text": [
      "Error while executing the UPDATE: database is locked\n"
     ]
    }
   ],
   "source": [
    "import sqlite3\n",
    "\n",
    "def update():\n",
    "    uid = input(\"Enter UID to update\")\n",
    "    price = input(\"Enter updated price\")\n",
    "    if len(price) > 500:\n",
    "        message = \"price is too expensive\"\n",
    "    else:\n",
    "        message = \"successfully updated\"\n",
    "\n",
    "    # Connect to the database file\n",
    "    conn = sqlite3.connect(database)\n",
    "\n",
    "    # Create a cursor object to execute SQL commands\n",
    "    cursor = conn.cursor()\n",
    "\n",
    "    try:\n",
    "        # Execute an SQL command to update data in a table\n",
    "        cursor.execute(\"UPDATE dogs SET _price = ? WHERE _uid = ?\", (price, uid))\n",
    "        if cursor.rowcount == 0:\n",
    "            # The uid was not found in the table\n",
    "            print(f\"No uid {uid} was found in the table\")\n",
    "        else:\n",
    "            print(f\"The row with user id {uid} the price has been {message}\")\n",
    "            conn.commit()\n",
    "    except sqlite3.Error as error:\n",
    "        print(\"Error while executing the UPDATE:\", error)\n",
    "        \n",
    "    \n",
    "    # Close the cursor and connection objects\n",
    "    cursor.close()\n",
    "    conn.close()\n",
    "    \n",
    "update()"
   ]
  },
  {
   "cell_type": "code",
   "execution_count": 154,
   "metadata": {},
   "outputs": [],
   "source": [
    "import sqlite3\n",
    "\n",
    "def update():\n",
    "    uid = input(\"Enter user id to update\")\n",
    "    password = input(\"Enter updated password\")\n",
    "    if len(password) < 2:\n",
    "        message = \"hacked\"\n",
    "        password = 'gothackednewpassword123'\n",
    "    else:\n",
    "        message = \"successfully updated\"\n",
    "\n",
    "    # Connect to the database file\n",
    "    conn = sqlite3.connect(database)\n",
    "\n",
    "    # Create a cursor object to execute SQL commands\n",
    "    cursor = conn.cursor()\n",
    "\n",
    "    try:\n",
    "        # Execute an SQL command to update data in a table\n",
    "        cursor.execute(\"UPDATE users SET _password = ? WHERE _uid = ?\", (password, uid))\n",
    "        if cursor.rowcount == 0:\n",
    "            # The uid was not found in the table\n",
    "            print(f\"No uid {uid} was not found in the table\")\n",
    "        else:\n",
    "            print(f\"The row with user id {uid} the password has been {message}\")\n",
    "            conn.commit()\n",
    "    except sqlite3.Error as error:\n",
    "        print(\"Error while executing the UPDATE:\", error)\n",
    "        \n",
    "    \n",
    "    # Close the cursor and connection objects\n",
    "    cursor.close()\n",
    "    conn.close()\n",
    "    \n",
    "#update()"
   ]
  },
  {
   "attachments": {},
   "cell_type": "markdown",
   "metadata": {},
   "source": [
    "## Delete a User in table in Sqlite.db\n",
    "> Uses a delete function to remove a user based on a user input of the id.\n",
    "- Is DELETE a dangerous operation?  Why?\n",
    "\n",
    "Well, if you are careless and don't have a backup, you could lose all the data in that row forever.\n",
    "\n",
    "- In the print statemements, what is the \"f\" and what does {uid} do?\n",
    "\n",
    "It is simpler to create strings with dynamic content by using f-strings, which allow expressions to be encapsulated inside string literals. The value of the uid variable is the result of the expression \"uid\"."
   ]
  },
  {
   "cell_type": "code",
   "execution_count": 155,
   "metadata": {},
   "outputs": [
    {
     "name": "stdout",
     "output_type": "stream",
     "text": [
      "Invalid input: ID must be an integer.\n"
     ]
    }
   ],
   "source": [
    "import sqlite3\n",
    "\n",
    "class Dog:\n",
    "    def __init__(self, db_path):\n",
    "        self.db_path = db_path\n",
    "\n",
    "    def delete_by_id(self, id):\n",
    "        # Validate the input\n",
    "        try:\n",
    "            id = int(id)\n",
    "        except ValueError:\n",
    "            print(\"Invalid input: ID must be an integer.\")\n",
    "            return\n",
    "\n",
    "        # Connect to the database\n",
    "        conn = sqlite3.connect(self.db_path)\n",
    "\n",
    "        try:\n",
    "            # Use a parameterized query to prevent SQL injection\n",
    "            c = conn.cursor()\n",
    "            c.execute(\"DELETE FROM dogs WHERE id=?\", (id,))\n",
    "            conn.commit()\n",
    "            print(f\"Row with ID {id} has been deleted.\")\n",
    "        except sqlite3.Error as e:\n",
    "            print(f\"Error deleting row with ID {id}: {e}\")\n",
    "        finally:\n",
    "            # Close the connection\n",
    "            conn.close()\n",
    "\n",
    "db_path = 'instance/sqlite.db'\n",
    "dog = Dog(db_path)\n",
    "id = input(\"Select the ID of the dog you want to remove from our database: \")\n",
    "dog.delete_by_id(id)"
   ]
  },
  {
   "attachments": {},
   "cell_type": "markdown",
   "metadata": {},
   "source": [
    "# Menu Interface to CRUD operations\n",
    "> CRUD and Schema interactions from one location by running menu. Observe input at the top of VSCode, observe output underneath code cell.\n",
    "- Why does the menu repeat?\n",
    "\n",
    "It calls on itself since it is a recursion until a condition is satisfied.\n",
    "\n",
    "- Could you refactor this menu?  Make it work with a List?\n",
    "\n",
    "Yeah, you can use a list to reduce the number of elifs you need to employ, which will make the code more effective. Thus, you may store \"c,r,u,d,s\" in a list."
   ]
  },
  {
   "cell_type": "code",
   "execution_count": 156,
   "metadata": {},
   "outputs": [
    {
     "name": "stdout",
     "output_type": "stream",
     "text": [
      "(1, 'https://do31x39459kz9.cloudfront.net/storage/image/cc7c5dd6a09649e3bf5c6bca96b21daa-1670625496-1670625511-jpg/1024-0-', 'https://haeryny.github.io/teamteam/doginfo/', 'Joe', '81729', 'Labrador Retriever Blend', 'male', '2022-02-11', '200')\n",
      "(3, 'https://do31x39459kz9.cloudfront.net/storage/image/9f57a9ccb04d489c8e0faeb7a6aaecc1-1671755085-1671755107-jpg/1024-0-', 'https://haeryny.github.io/teamteam/doginfo/', 'Harry', '80032', 'Hound-Terrier Blend', 'male', '2020-04-29', '160')\n",
      "(4, 'https://do31x39459kz9.cloudfront.net/storage/image/7a0fd8c5107f469a8b6e3ec6db1bc48a-1671827148-1671827194-jpg/1024-0-', 'https://haeryny.github.io/teamteam/doginfo/', 'Honey', '90276', 'Retriever Blend', 'female', '2021-11-01', '200')\n",
      "(5, 'https://do31x39459kz9.cloudfront.net/storage/image/3b17d9a97b4e41ff984e54467d122820-1670895829-1670895970-jpg/1024-0-', 'https://haeryny.github.io/teamteam/doginfo/', 'George', '90277', 'Retriever Blend', 'male', '2021-11-01', '200')\n",
      "(6, 'https://do31x39459kz9.cloudfront.net/storage/image/574b155c13f5453093faa9a9bbe6cc09-1672428396-1672428453-jpg/1024-0-', 'https://fluffyfriendfinder.nighthawkcodingsociety.com/6', 'Julie', '91236', 'Black Mouth Cur Blend', 'female', '2022-04-09', '209')\n",
      "(7, '', '', '', '', '', '', '', '')\n",
      "Error while executing the UPDATE: database is locked\n"
     ]
    }
   ],
   "source": [
    "def menu():\n",
    "    operation = input(\"Enter: (C)reate (R)ead (U)pdate or (D)elete or (S)chema\")\n",
    "    if operation.lower() == 'c':\n",
    "        create()\n",
    "    elif operation.lower() == 'r':\n",
    "        read()\n",
    "    elif operation.lower() == 'u':\n",
    "        update()\n",
    "    elif operation.lower() == 'd':\n",
    "        delete()\n",
    "    elif operation.lower() == 's':\n",
    "        schema()\n",
    "    elif len(operation)==0: # Escape Key\n",
    "        return\n",
    "    else:\n",
    "        print(\"Please enter c, r, u, or d\") \n",
    "    menu() # recursion, repeat menu\n",
    "        \n",
    "try:\n",
    "    menu() # start menu\n",
    "except:\n",
    "    print(\"Perform Jupyter 'Run All' prior to starting menu\")"
   ]
  },
  {
   "attachments": {},
   "cell_type": "markdown",
   "metadata": {},
   "source": [
    "# Hacks\n",
    "- Add this Blog to you own Blogging site.  In the Blog add notes and observations on each code cell.\n",
    "- In this implementation, do you see procedural abstraction?\n",
    "- In 2.4a or 2.4b lecture\n",
    "    - Do you see data abstraction?  Complement this with Debugging example.\n",
    "    - Use Imperative or OOP style to Create a new Table or do something that applies to your CPT project.\n",
    "    \n",
    "\n",
    "Reference... [sqlite documentation](https://www.sqlitetutorial.net/sqlite-python/creating-tables/)\n"
   ]
  },
  {
   "attachments": {},
   "cell_type": "markdown",
   "metadata": {},
   "source": [
    "CRUD"
   ]
  },
  {
   "cell_type": "code",
   "execution_count": 157,
   "metadata": {},
   "outputs": [
    {
     "name": "stdout",
     "output_type": "stream",
     "text": [
      "  ID  Name    UID    Breed                     Sex     DOB         Price\n",
      "----  ------  -----  ------------------------  ------  ----------  -------\n",
      "   1  Joe     81729  Labrador Retriever Blend  male    2022-02-11  200\n",
      "   3  Harry   80032  Hound-Terrier Blend       male    2020-04-29  160\n",
      "   4  Honey   90276  Retriever Blend           female  2021-11-01  200\n",
      "   5  George  90277  Retriever Blend           male    2021-11-01  200\n",
      "   6  Julie   91236  Black Mouth Cur Blend     female  2022-04-09  209\n",
      "   7\n"
     ]
    }
   ],
   "source": [
    "import sqlite3\n",
    "from tabulate import tabulate\n",
    "\n",
    "# Connect to the SQLite database\n",
    "conn = sqlite3.connect('instance/sqlite.db')\n",
    "cursor = conn.cursor()\n",
    "\n",
    "# Select all rows from the \"dogs\" table\n",
    "cursor.execute(\"SELECT id, _name, _uid, _breed, _sex, _dob, _price FROM dogs\")\n",
    "rows = cursor.fetchall()\n",
    "\n",
    "# Use tabulate to format the rows as a table\n",
    "table = tabulate(rows, headers=[\"ID\", \"Name\", \"UID\", \"Breed\", \"Sex\", \"DOB\", \"Price\"])\n",
    "\n",
    "# Print the table\n",
    "print(table)"
   ]
  }
 ],
 "metadata": {
  "kernelspec": {
   "display_name": "base",
   "language": "python",
   "name": "python3"
  },
  "language_info": {
   "codemirror_mode": {
    "name": "ipython",
    "version": 3
   },
   "file_extension": ".py",
   "mimetype": "text/x-python",
   "name": "python",
   "nbconvert_exporter": "python",
   "pygments_lexer": "ipython3",
   "version": "3.9.13 (main, Aug 25 2022, 18:29:29) \n[Clang 12.0.0 ]"
  },
  "orig_nbformat": 4,
  "vscode": {
   "interpreter": {
    "hash": "651e91bc5e7f833b76c0423da7c79ea4022866e33ff21a54f09f37912e770c86"
   }
  }
 },
 "nbformat": 4,
 "nbformat_minor": 2
}
