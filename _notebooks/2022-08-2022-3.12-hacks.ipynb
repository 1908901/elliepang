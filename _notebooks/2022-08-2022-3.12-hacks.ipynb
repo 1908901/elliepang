{
 "cells": [
  {
   "attachments": {},
   "cell_type": "markdown",
   "metadata": {},
   "source": [
    "# Hacks 3.12-3.13"
   ]
  },
  {
   "attachments": {},
   "cell_type": "markdown",
   "metadata": {},
   "source": [
    "## Notes 3.12 - 3.13 pt1\n",
    "- A procedure is a named group of programming instructions that may have parameters and return values.\n",
    "\n",
    "- Procedures can be reffered to as method or function depending on the programing language.\n",
    "\n",
    "- A procedrure call interrupts an execution of statements and makes the program execute the statements in the procedure.\n",
    "\n",
    "- Parameters are input values of a procedure.\n",
    "\n",
    "- Argurments specifcy the values of the parameters when a procedure is called.\n",
    "\n",
    "- If you have a set of statements and inside there is a procedure then when it reaches that procedure it will excute that procedure and then go back to the rest of the statments.\n",
    "\n",
    "- If you see a return statement you automatically end the procedure even if there is more statements"
   ]
  },
  {
   "cell_type": "code",
   "execution_count": null,
   "metadata": {},
   "outputs": [],
   "source": []
  }
 ],
 "metadata": {
  "kernelspec": {
   "display_name": "Python 3",
   "language": "python",
   "name": "python3"
  },
  "language_info": {
   "name": "python",
   "version": "3.8.10 (default, Jun 22 2022, 20:18:18) \n[GCC 9.4.0]"
  },
  "orig_nbformat": 4,
  "vscode": {
   "interpreter": {
    "hash": "916dbcbb3f70747c44a77c7bcd40155683ae19c65e1c03b4aa3499c5328201f1"
   }
  }
 },
 "nbformat": 4,
 "nbformat_minor": 2
}
