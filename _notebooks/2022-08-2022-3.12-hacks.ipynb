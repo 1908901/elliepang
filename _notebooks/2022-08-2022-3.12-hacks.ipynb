{
 "cells": [
  {
   "attachments": {},
   "cell_type": "markdown",
   "metadata": {},
   "source": [
    "# Hacks 3.12-3.13"
   ]
  },
  {
   "attachments": {},
   "cell_type": "markdown",
   "metadata": {},
   "source": [
    "## Notes 3.12 - 3.13 pt1\n",
    "- A procedure is a named group of programming instructions that may have parameters and return values.\n",
    "\n",
    "- Procedures can be reffered to as method or function depending on the programing language.\n",
    "\n",
    "- A procedrure call interrupts an execution of statements and makes the program execute the statements in the procedure.\n",
    "\n",
    "- Parameters are input values of a procedure.\n",
    "\n",
    "- Argurments specifcy the values of the parameters when a procedure is called.\n",
    "\n",
    "- If you have a set of statements and inside there is a procedure then when it reaches that procedure it will excute that procedure and then go back to the rest of the statments.\n",
    "\n",
    "- If you see a return statement you automatically end the procedure even if there is more statements"
   ]
  },
  {
   "cell_type": "code",
   "execution_count": null,
   "metadata": {},
   "outputs": [],
   "source": []
  }
 ],
 "metadata": {
  "language_info": {
   "name": "python"
  },
  "orig_nbformat": 4
 },
 "nbformat": 4,
 "nbformat_minor": 2
}
