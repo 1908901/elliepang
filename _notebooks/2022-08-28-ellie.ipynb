{
 "cells": [
  {
   "cell_type": "code",
   "execution_count": null,
   "metadata": {},
   "outputs": [],
   "source": [
    "# Python Quiz\n",
    "- title: Lists, Dictionaries, Iteration\n",
    "- toc: true\n",
    "- categories: [units]\n",
    "- permalink: /collegeboard/python_lists\n",
    "- image: /images/python_lists.png\n",
    "- categories: [collegeboard]\n",
    "- tags: [python]"
   ]
  },
  {
   "cell_type": "code",
   "execution_count": 9,
   "metadata": {},
   "outputs": [
    {
     "name": "stdout",
     "output_type": "stream",
     "text": [
      "Hey! Ellie\n",
      "Good Luck!\n",
      "Good job! That is correct!\n",
      "Good job! That is correct!\n",
      "Good job! That is correct!\n",
      "Good job! That is correct!\n",
      "Congratulations! You completed this quiz with an amazing score! You scored a: 4/4\n"
     ]
    }
   ],
   "source": [
    "\n",
    "#define:\n",
    "score = 0\n",
    "questions = 4\n",
    "\n",
    "def q_a(q, a):\n",
    "    answer = input(q)\n",
    "    score = 0\n",
    "    if answer == a:\n",
    "        print(\"Good job! That is correct!\")\n",
    "        score = 1\n",
    "    else:\n",
    "        print(\"Good try! The answer is \" + a + \".\")\n",
    "    return score\n",
    " \n",
    "#intro:\n",
    "name = input(\"Enter your name:\")\n",
    "print(\"Hey! \" + name)\n",
    "ready = input(\"This quiz will have 4 questions.\" + \" Are you ready to start this quiz? Answer yes or no.\")\n",
    "if ready == \"yes\":\n",
    "    print(\"Let's get started!\")\n",
    "else:\n",
    "    print(\"Good Luck!\")\n",
    "\n",
    "#question 1:\n",
    "score = score + q_a(\"1. Are static texts changeable?\", \"No\")\n",
    "\n",
    "#question 2:\n",
    "score = score + q_a(\"2. Where is output found in Jupyter Notebook?\", \"Below the code cell\")\n",
    "\n",
    "#question 3:\n",
    "score = score + q_a(\"3. What are grouping a sequence of commands called?\", \"Procedural abstraction\")\n",
    "\n",
    "#question 4:\n",
    "score = score + q_a(\"4. What are two or more lines that form a sequence called?\", \"Sequence of code\")\n",
    "\n",
    "#ending score\n",
    "if score >= 3:\n",
    "    print(\"Congratulations! You completed this quiz with an amazing score! You scored a: {}/4\" .format(score))\n",
    "else:\n",
    "    print(\"Congratulations! You completed the quiz. Your score is a: {}/4\" .format(score))"
   ]
  },
  {
   "cell_type": "markdown",
   "metadata": {},
   "source": [
    "# Python Quiz"
   ]
  }
 ],
 "metadata": {
  "kernelspec": {
   "display_name": "Python 3.8.10 64-bit",
   "language": "python",
   "name": "python3"
  },
  "language_info": {
   "codemirror_mode": {
    "name": "ipython",
    "version": 3
   },
   "file_extension": ".py",
   "mimetype": "text/x-python",
   "name": "python",
   "nbconvert_exporter": "python",
   "pygments_lexer": "ipython3",
   "version": "3.8.10"
  },
  "orig_nbformat": 4,
  "vscode": {
   "interpreter": {
    "hash": "916dbcbb3f70747c44a77c7bcd40155683ae19c65e1c03b4aa3499c5328201f1"
   }
  }
 },
 "nbformat": 4,
 "nbformat_minor": 2
}
